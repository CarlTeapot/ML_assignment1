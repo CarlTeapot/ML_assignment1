{
 "cells": [
  {
   "cell_type": "markdown",
   "id": "29e57976",
   "metadata": {},
   "source": [
    "## Import Libraries"
   ]
  },
  {
   "cell_type": "code",
   "execution_count": 142,
   "id": "25ad1e0d",
   "metadata": {},
   "outputs": [],
   "source": [
    "import pandas as pd\n",
    "import numpy as np\n",
    "import matplotlib.pyplot as plt\n",
    "import seaborn as sns\n",
    "import dagshub\n",
    "import mlflow\n"
   ]
  },
  {
   "cell_type": "code",
   "execution_count": 143,
   "id": "d9dffd58",
   "metadata": {},
   "outputs": [],
   "source": [
    "path = \"./mlData\"\n",
    "df = pd.read_csv(path + \"/train.csv\")"
   ]
  },
  {
   "cell_type": "markdown",
   "id": "bba5d880",
   "metadata": {},
   "source": [
    "Find the Parameters with the most null values"
   ]
  },
  {
   "cell_type": "code",
   "execution_count": 144,
   "id": "8161ab68",
   "metadata": {},
   "outputs": [
    {
     "data": {
      "text/html": [
       "<div>\n",
       "<style scoped>\n",
       "    .dataframe tbody tr th:only-of-type {\n",
       "        vertical-align: middle;\n",
       "    }\n",
       "\n",
       "    .dataframe tbody tr th {\n",
       "        vertical-align: top;\n",
       "    }\n",
       "\n",
       "    .dataframe thead th {\n",
       "        text-align: right;\n",
       "    }\n",
       "</style>\n",
       "<table border=\"1\" class=\"dataframe\">\n",
       "  <thead>\n",
       "    <tr style=\"text-align: right;\">\n",
       "      <th></th>\n",
       "      <th>Total</th>\n",
       "      <th>Percent</th>\n",
       "    </tr>\n",
       "  </thead>\n",
       "  <tbody>\n",
       "    <tr>\n",
       "      <th>PoolQC</th>\n",
       "      <td>1453</td>\n",
       "      <td>99.520548</td>\n",
       "    </tr>\n",
       "    <tr>\n",
       "      <th>MiscFeature</th>\n",
       "      <td>1406</td>\n",
       "      <td>96.301370</td>\n",
       "    </tr>\n",
       "    <tr>\n",
       "      <th>Alley</th>\n",
       "      <td>1369</td>\n",
       "      <td>93.767123</td>\n",
       "    </tr>\n",
       "    <tr>\n",
       "      <th>Fence</th>\n",
       "      <td>1179</td>\n",
       "      <td>80.753425</td>\n",
       "    </tr>\n",
       "    <tr>\n",
       "      <th>MasVnrType</th>\n",
       "      <td>872</td>\n",
       "      <td>59.726027</td>\n",
       "    </tr>\n",
       "    <tr>\n",
       "      <th>FireplaceQu</th>\n",
       "      <td>690</td>\n",
       "      <td>47.260274</td>\n",
       "    </tr>\n",
       "    <tr>\n",
       "      <th>LotFrontage</th>\n",
       "      <td>259</td>\n",
       "      <td>17.739726</td>\n",
       "    </tr>\n",
       "    <tr>\n",
       "      <th>GarageQual</th>\n",
       "      <td>81</td>\n",
       "      <td>5.547945</td>\n",
       "    </tr>\n",
       "    <tr>\n",
       "      <th>GarageFinish</th>\n",
       "      <td>81</td>\n",
       "      <td>5.547945</td>\n",
       "    </tr>\n",
       "    <tr>\n",
       "      <th>GarageType</th>\n",
       "      <td>81</td>\n",
       "      <td>5.547945</td>\n",
       "    </tr>\n",
       "    <tr>\n",
       "      <th>GarageYrBlt</th>\n",
       "      <td>81</td>\n",
       "      <td>5.547945</td>\n",
       "    </tr>\n",
       "    <tr>\n",
       "      <th>GarageCond</th>\n",
       "      <td>81</td>\n",
       "      <td>5.547945</td>\n",
       "    </tr>\n",
       "    <tr>\n",
       "      <th>BsmtFinType2</th>\n",
       "      <td>38</td>\n",
       "      <td>2.602740</td>\n",
       "    </tr>\n",
       "    <tr>\n",
       "      <th>BsmtExposure</th>\n",
       "      <td>38</td>\n",
       "      <td>2.602740</td>\n",
       "    </tr>\n",
       "    <tr>\n",
       "      <th>BsmtCond</th>\n",
       "      <td>37</td>\n",
       "      <td>2.534247</td>\n",
       "    </tr>\n",
       "    <tr>\n",
       "      <th>BsmtQual</th>\n",
       "      <td>37</td>\n",
       "      <td>2.534247</td>\n",
       "    </tr>\n",
       "    <tr>\n",
       "      <th>BsmtFinType1</th>\n",
       "      <td>37</td>\n",
       "      <td>2.534247</td>\n",
       "    </tr>\n",
       "    <tr>\n",
       "      <th>MasVnrArea</th>\n",
       "      <td>8</td>\n",
       "      <td>0.547945</td>\n",
       "    </tr>\n",
       "    <tr>\n",
       "      <th>Electrical</th>\n",
       "      <td>1</td>\n",
       "      <td>0.068493</td>\n",
       "    </tr>\n",
       "    <tr>\n",
       "      <th>Condition2</th>\n",
       "      <td>0</td>\n",
       "      <td>0.000000</td>\n",
       "    </tr>\n",
       "  </tbody>\n",
       "</table>\n",
       "</div>"
      ],
      "text/plain": [
       "              Total    Percent\n",
       "PoolQC         1453  99.520548\n",
       "MiscFeature    1406  96.301370\n",
       "Alley          1369  93.767123\n",
       "Fence          1179  80.753425\n",
       "MasVnrType      872  59.726027\n",
       "FireplaceQu     690  47.260274\n",
       "LotFrontage     259  17.739726\n",
       "GarageQual       81   5.547945\n",
       "GarageFinish     81   5.547945\n",
       "GarageType       81   5.547945\n",
       "GarageYrBlt      81   5.547945\n",
       "GarageCond       81   5.547945\n",
       "BsmtFinType2     38   2.602740\n",
       "BsmtExposure     38   2.602740\n",
       "BsmtCond         37   2.534247\n",
       "BsmtQual         37   2.534247\n",
       "BsmtFinType1     37   2.534247\n",
       "MasVnrArea        8   0.547945\n",
       "Electrical        1   0.068493\n",
       "Condition2        0   0.000000"
      ]
     },
     "execution_count": 144,
     "metadata": {},
     "output_type": "execute_result"
    }
   ],
   "source": [
    "total = df.isnull().sum().sort_values(ascending=False)\n",
    "percent = ((df.isnull().sum()/df.isnull().count()) * 100).sort_values(ascending=False)\n",
    "missing_data = pd.concat([total, percent], axis=1, keys=['Total', 'Percent'])\n",
    "missing_data.head(20)"
   ]
  },
  {
   "cell_type": "markdown",
   "id": "732889a0",
   "metadata": {},
   "source": [
    "Even though some of the parameters on the top of this list might seem important, like the Pool quality or a fireplace quality, it would be safe to ignore them considering just how much of the houses dont have either of them. and looking at their correlation with price, we can safely assume that they are not important\n",
    "\n",
    "To drop these values, I had to generate graphs that described their relationship with SalePrice parameter and, because of the randomness of their relationship, I dropped these values."
   ]
  },
  {
   "cell_type": "code",
   "execution_count": 145,
   "id": "f567a763",
   "metadata": {},
   "outputs": [],
   "source": [
    "rem_missing_data=missing_data[missing_data['Percent'] < 20]\n",
    "\n",
    "df = df.drop(missing_data[missing_data['Percent'] > 20].index,axis=1)\n",
    "df = df.drop(['LotFrontage', 'MasVnrArea', 'GarageYrBlt', 'GarageFinish', 'GarageType'], axis=1)\n",
    "rem_missing_data = rem_missing_data.drop(['LotFrontage', 'MasVnrArea', 'GarageYrBlt', 'GarageFinish', 'GarageType'])\n",
    "rem_missing_data = rem_missing_data[rem_missing_data['Percent'] > 0]\n",
    "df = df.drop(df.loc[df['Electrical'].isnull()].index)\n",
    "rem_missing_data.drop('Electrical', inplace=True)\n",
    "\n"
   ]
  },
  {
   "cell_type": "code",
   "execution_count": 146,
   "id": "a46d3235",
   "metadata": {},
   "outputs": [],
   "source": [
    "garage_cols = ['GarageQual', 'GarageCond']\n",
    "qual_map = {\n",
    "    'Ex': 5,   # Excellent\n",
    "    'Gd': 4,   # Good\n",
    "    'TA': 3,   # Typical/Average\n",
    "    'Fa': 2,   # Fair\n",
    "    'Po': 1,   # Poor\n",
    "    np.nan: 0  # No garage\n",
    "}\n",
    "\n",
    "for col in ['GarageQual', 'GarageCond']:\n",
    "    df[col] = df[col].map(qual_map)"
   ]
  },
  {
   "cell_type": "markdown",
   "id": "cf75b770",
   "metadata": {},
   "source": [
    "Observing the relationship of GarageQuality parameter with Saleprice, it is easy to see that it in some capacity affects the price, so we cant drop this variable directly."
   ]
  },
  {
   "cell_type": "code",
   "execution_count": 147,
   "id": "7d3847e6",
   "metadata": {},
   "outputs": [
    {
     "data": {
      "text/plain": [
       "<Axes: xlabel='GarageQual', ylabel='SalePrice'>"
      ]
     },
     "execution_count": 147,
     "metadata": {},
     "output_type": "execute_result"
    },
    {
     "data": {
      "image/png": "[encoded data removed]",
      "text/plain": [
       "<Figure size 640x480 with 1 Axes>"
      ]
     },
     "metadata": {},
     "output_type": "display_data"
    }
   ],
   "source": [
    "var = 'GarageQual'\n",
    "data = pd.concat([df['SalePrice'], df[var]], axis=1)\n",
    "data.plot.scatter(x=var, y='SalePrice', ylim=(0,800000))"
   ]
  },
  {
   "cell_type": "code",
   "execution_count": 148,
   "id": "82115343",
   "metadata": {},
   "outputs": [],
   "source": [
    "df.drop('GarageCond', axis=1, inplace=True)"
   ]
  },
  {
   "cell_type": "markdown",
   "id": "5c99eb3a",
   "metadata": {},
   "source": [
    "lets drop all of the Basement variables except Basement Quality, because the parameter already describes everything related to basements"
   ]
  },
  {
   "cell_type": "code",
   "execution_count": 149,
   "id": "b6890dc2",
   "metadata": {},
   "outputs": [],
   "source": [
    "df.drop(['Id','BsmtCond', 'BsmtExposure', 'BsmtFinType1', 'BsmtFinType2'], axis=1, inplace=True)"
   ]
  },
  {
   "cell_type": "code",
   "execution_count": 150,
   "id": "b09030d9",
   "metadata": {},
   "outputs": [],
   "source": [
    "df['BsmtQual'] = df['BsmtQual'].map(qual_map)"
   ]
  },
  {
   "cell_type": "markdown",
   "id": "ccc7e0cd",
   "metadata": {},
   "source": [
    "As we can see, we should keep the Basement Quality parameter, as it has a moderate effect on the price"
   ]
  },
  {
   "cell_type": "code",
   "execution_count": 151,
   "id": "5ad8a3de",
   "metadata": {},
   "outputs": [
    {
     "data": {
      "image/png": "[encoded data removed]",
      "text/plain": [
       "<Figure size 640x480 with 1 Axes>"
      ]
     },
     "metadata": {},
     "output_type": "display_data"
    }
   ],
   "source": [
    "var = 'BsmtQual'\n",
    "data = pd.concat([df['SalePrice'], df[var]], axis=1)\n",
    "data.plot.scatter(x=var, y='SalePrice', ylim=(0,800000));"
   ]
  },
  {
   "cell_type": "code",
   "execution_count": 152,
   "id": "1352f067",
   "metadata": {},
   "outputs": [
    {
     "data": {
      "text/plain": [
       "<Axes: xlabel='GarageQual', ylabel='SalePrice'>"
      ]
     },
     "execution_count": 152,
     "metadata": {},
     "output_type": "execute_result"
    }
   ],
   "source": [
    "df = pd.get_dummies(df)\n",
    "\n",
    "_\n"
   ]
  },
  {
   "cell_type": "code",
   "execution_count": 153,
   "id": "ad73f855",
   "metadata": {},
   "outputs": [],
   "source": [
    "import numpy as np\n",
    "import pandas as pd\n",
    "from sklearn.linear_model import LinearRegression,  Ridge, Lasso\n",
    "from sklearn.metrics import mean_squared_error\n",
    "from sklearn.model_selection import train_test_split, cross_val_score\n",
    "from sklearn.model_selection import GridSearchCV, KFold\n",
    "from sklearn.pipeline import Pipeline\n",
    "from sklearn.preprocessing import StandardScaler, MinMaxScaler, RobustScaler\n",
    "from sklearn.ensemble import RandomForestRegressor\n",
    "\n"
   ]
  },
  {
   "cell_type": "code",
   "execution_count": 154,
   "id": "104c748d",
   "metadata": {},
   "outputs": [],
   "source": [
    "\n",
    "X = df.drop(columns='SalePrice')\n",
    "y = df['SalePrice']\n",
    "\n",
    "X_train, X_test, y_train, y_test = train_test_split(\n",
    "    X, y,\n",
    "    test_size=0.2,\n",
    "    random_state=42\n",
    ")\n",
    "y_train_log = np.log(y_train)\n",
    "\n",
    "\n",
    "model = LinearRegression()\n",
    "crossv = 10\n",
    "\n",
    "kfold = KFold(n_splits=10, shuffle=True, random_state=42)\n",
    "\n",
    "scalers = [\n",
    "    StandardScaler(),\n",
    "    MinMaxScaler(),\n",
    "    RobustScaler(),\n",
    "    None\n",
    "]\n",
    "pipeline = Pipeline([\n",
    "    ('scaler', StandardScaler()),\n",
    "    ('regressor', LinearRegression())  # Key step name\n",
    "])\n",
    "\n",
    "# Parameter grid matches 'regressor'\n",
    "param_grid = [\n",
    "    {\n",
    "        'scaler': [StandardScaler(), MinMaxScaler(), RobustScaler(), None],\n",
    "        'regressor': [LinearRegression()],\n",
    "        'regressor__fit_intercept': [True, False],\n",
    "        'regressor__positive': [True, False]\n",
    "    },\n",
    "    {\n",
    "        'scaler': [StandardScaler(), MinMaxScaler(), RobustScaler(), None],\n",
    "        'regressor': [Ridge(max_iter=10000, random_state=42)],\n",
    "        'regressor__alpha': [0.1, 1.0, 10.0, 100.0, 1000.0],\n",
    "        'regressor__fit_intercept': [True, False]\n",
    "    },\n",
    "    {\n",
    "        'scaler': [StandardScaler(), MinMaxScaler(), RobustScaler(), None],\n",
    "        'regressor': [Lasso(max_iter=10000, random_state=42)],\n",
    "        'regressor__alpha': [100.0, 1000.0],\n",
    "        'regressor__fit_intercept': [True, False]\n",
    "    },\n",
    "    {\n",
    "        'scaler': [None],\n",
    "        'regressor': [RandomForestRegressor(random_state=42)],\n",
    "        'regressor__n_estimators': [100],\n",
    "        'regressor__max_depth': [10],\n",
    "        'regressor__min_samples_split': [5],\n",
    "        'regressor__min_samples_leaf': [2]\n",
    "    }\n",
    "]\n",
    "\n",
    "grid_search = GridSearchCV(\n",
    "    pipeline,\n",
    "    param_grid=param_grid,\n",
    "    cv=kfold,\n",
    "    scoring='neg_root_mean_squared_error',\n",
    "    verbose=2,\n",
    "    return_train_score=True\n",
    ")\n"
   ]
  },
  {
   "cell_type": "code",
   "execution_count": 155,
   "id": "6fb28402",
   "metadata": {},
   "outputs": [
    {
     "data": {
      "text/html": [
       "<pre style=\"white-space:pre;overflow-x:auto;line-height:normal;font-family:Menlo,'DejaVu Sans Mono',consolas,'Courier New',monospace\">Initialized MLflow to track repo <span style=\"color: #008000; text-decoration-color: #008000\">\"CarlTeapot/ML_assignment1\"</span>\n",
       "</pre>\n"
      ],
      "text/plain": [
       "Initialized MLflow to track repo \u001b[32m\"CarlTeapot/ML_assignment1\"\u001b[0m\n"
      ]
     },
     "metadata": {},
     "output_type": "display_data"
    },
    {
     "data": {
      "text/html": [
       "<pre style=\"white-space:pre;overflow-x:auto;line-height:normal;font-family:Menlo,'DejaVu Sans Mono',consolas,'Courier New',monospace\">Repository CarlTeapot/ML_assignment1 initialized!\n",
       "</pre>\n"
      ],
      "text/plain": [
       "Repository CarlTeapot/ML_assignment1 initialized!\n"
      ]
     },
     "metadata": {},
     "output_type": "display_data"
    },
    {
     "name": "stdout",
     "output_type": "stream",
     "text": [
      "Fitting 10 folds for each of 73 candidates, totalling 730 fits\n",
      "[CV] END regressor=LinearRegression(), regressor__fit_intercept=True, regressor__positive=True, scaler=StandardScaler(); total time=   0.1s\n",
      "[CV] END regressor=LinearRegression(), regressor__fit_intercept=True, regressor__positive=True, scaler=StandardScaler(); total time=   0.1s\n",
      "[CV] END regressor=LinearRegression(), regressor__fit_intercept=True, regressor__positive=True, scaler=StandardScaler(); total time=   0.1s\n",
      "[CV] END regressor=LinearRegression(), regressor__fit_intercept=True, regressor__positive=True, scaler=StandardScaler(); total time=   0.1s\n",
      "[CV] END regressor=LinearRegression(), regressor__fit_intercept=True, regressor__positive=True, scaler=StandardScaler(); total time=   0.1s\n",
      "[CV] END regressor=LinearRegression(), regressor__fit_intercept=True, regressor__positive=True, scaler=StandardScaler(); total time=   0.1s\n",
      "[CV] END regressor=LinearRegression(), regressor__fit_intercept=True, regressor__positive=True, scaler=StandardScaler(); total time=   0.1s\n",
      "[CV] END regressor=LinearRegression(), regressor__fit_intercept=True, regressor__positive=True, scaler=StandardScaler(); total time=   0.1s\n",
      "[CV] END regressor=LinearRegression(), regressor__fit_intercept=True, regressor__positive=True, scaler=StandardScaler(); total time=   0.1s\n",
      "[CV] END regressor=LinearRegression(), regressor__fit_intercept=True, regressor__positive=True, scaler=StandardScaler(); total time=   0.1s\n",
      "[CV] END regressor=LinearRegression(), regressor__fit_intercept=True, regressor__positive=True, scaler=MinMaxScaler(); total time=   0.1s\n",
      "[CV] END regressor=LinearRegression(), regressor__fit_intercept=True, regressor__positive=True, scaler=MinMaxScaler(); total time=   0.1s\n",
      "[CV] END regressor=LinearRegression(), regressor__fit_intercept=True, regressor__positive=True, scaler=MinMaxScaler(); total time=   0.1s\n",
      "[CV] END regressor=LinearRegression(), regressor__fit_intercept=True, regressor__positive=True, scaler=MinMaxScaler(); total time=   0.1s\n",
      "[CV] END regressor=LinearRegression(), regressor__fit_intercept=True, regressor__positive=True, scaler=MinMaxScaler(); total time=   0.1s\n",
      "[CV] END regressor=LinearRegression(), regressor__fit_intercept=True, regressor__positive=True, scaler=MinMaxScaler(); total time=   0.1s\n",
      "[CV] END regressor=LinearRegression(), regressor__fit_intercept=True, regressor__positive=True, scaler=MinMaxScaler(); total time=   0.1s\n",
      "[CV] END regressor=LinearRegression(), regressor__fit_intercept=True, regressor__positive=True, scaler=MinMaxScaler(); total time=   0.1s\n",
      "[CV] END regressor=LinearRegression(), regressor__fit_intercept=True, regressor__positive=True, scaler=MinMaxScaler(); total time=   0.1s\n",
      "[CV] END regressor=LinearRegression(), regressor__fit_intercept=True, regressor__positive=True, scaler=MinMaxScaler(); total time=   0.1s\n",
      "[CV] END regressor=LinearRegression(), regressor__fit_intercept=True, regressor__positive=True, scaler=RobustScaler(); total time=   0.1s\n",
      "[CV] END regressor=LinearRegression(), regressor__fit_intercept=True, regressor__positive=True, scaler=RobustScaler(); total time=   0.1s\n",
      "[CV] END regressor=LinearRegression(), regressor__fit_intercept=True, regressor__positive=True, scaler=RobustScaler(); total time=   0.1s\n",
      "[CV] END regressor=LinearRegression(), regressor__fit_intercept=True, regressor__positive=True, scaler=RobustScaler(); total time=   0.1s\n",
      "[CV] END regressor=LinearRegression(), regressor__fit_intercept=True, regressor__positive=True, scaler=RobustScaler(); total time=   0.1s\n",
      "[CV] END regressor=LinearRegression(), regressor__fit_intercept=True, regressor__positive=True, scaler=RobustScaler(); total time=   0.1s\n",
      "[CV] END regressor=LinearRegression(), regressor__fit_intercept=True, regressor__positive=True, scaler=RobustScaler(); total time=   0.1s\n",
      "[CV] END regressor=LinearRegression(), regressor__fit_intercept=True, regressor__positive=True, scaler=RobustScaler(); total time=   0.1s\n",
      "[CV] END regressor=LinearRegression(), regressor__fit_intercept=True, regressor__positive=True, scaler=RobustScaler(); total time=   0.1s\n",
      "[CV] END regressor=LinearRegression(), regressor__fit_intercept=True, regressor__positive=True, scaler=RobustScaler(); total time=   0.1s\n",
      "[CV] END regressor=LinearRegression(), regressor__fit_intercept=True, regressor__positive=True, scaler=None; total time=   0.1s\n",
      "[CV] END regressor=LinearRegression(), regressor__fit_intercept=True, regressor__positive=True, scaler=None; total time=   0.1s\n",
      "[CV] END regressor=LinearRegression(), regressor__fit_intercept=True, regressor__positive=True, scaler=None; total time=   0.1s\n",
      "[CV] END regressor=LinearRegression(), regressor__fit_intercept=True, regressor__positive=True, scaler=None; total time=   0.1s\n",
      "[CV] END regressor=LinearRegression(), regressor__fit_intercept=True, regressor__positive=True, scaler=None; total time=   0.1s\n",
      "[CV] END regressor=LinearRegression(), regressor__fit_intercept=True, regressor__positive=True, scaler=None; total time=   0.1s\n",
      "[CV] END regressor=LinearRegression(), regressor__fit_intercept=True, regressor__positive=True, scaler=None; total time=   0.1s\n",
      "[CV] END regressor=LinearRegression(), regressor__fit_intercept=True, regressor__positive=True, scaler=None; total time=   0.1s\n",
      "[CV] END regressor=LinearRegression(), regressor__fit_intercept=True, regressor__positive=True, scaler=None; total time=   0.1s\n",
      "[CV] END regressor=LinearRegression(), regressor__fit_intercept=True, regressor__positive=True, scaler=None; total time=   0.1s\n",
      "[CV] END regressor=LinearRegression(), regressor__fit_intercept=True, regressor__positive=False, scaler=StandardScaler(); total time=   0.0s\n",
      "[CV] END regressor=LinearRegression(), regressor__fit_intercept=True, regressor__positive=False, scaler=StandardScaler(); total time=   0.0s\n",
      "[CV] END regressor=LinearRegression(), regressor__fit_intercept=True, regressor__positive=False, scaler=StandardScaler(); total time=   0.0s\n",
      "[CV] END regressor=LinearRegression(), regressor__fit_intercept=True, regressor__positive=False, scaler=StandardScaler(); total time=   0.0s\n",
      "[CV] END regressor=LinearRegression(), regressor__fit_intercept=True, regressor__positive=False, scaler=StandardScaler(); total time=   0.0s\n",
      "[CV] END regressor=LinearRegression(), regressor__fit_intercept=True, regressor__positive=False, scaler=StandardScaler(); total time=   0.0s\n",
      "[CV] END regressor=LinearRegression(), regressor__fit_intercept=True, regressor__positive=False, scaler=StandardScaler(); total time=   0.0s\n",
      "[CV] END regressor=LinearRegression(), regressor__fit_intercept=True, regressor__positive=False, scaler=StandardScaler(); total time=   0.0s\n",
      "[CV] END regressor=LinearRegression(), regressor__fit_intercept=True, regressor__positive=False, scaler=StandardScaler(); total time=   0.0s\n",
      "[CV] END regressor=LinearRegression(), regressor__fit_intercept=True, regressor__positive=False, scaler=StandardScaler(); total time=   0.0s\n",
      "[CV] END regressor=LinearRegression(), regressor__fit_intercept=True, regressor__positive=False, scaler=MinMaxScaler(); total time=   0.0s\n",
      "[CV] END regressor=LinearRegression(), regressor__fit_intercept=True, regressor__positive=False, scaler=MinMaxScaler(); total time=   0.0s\n",
      "[CV] END regressor=LinearRegression(), regressor__fit_intercept=True, regressor__positive=False, scaler=MinMaxScaler(); total time=   0.0s\n",
      "[CV] END regressor=LinearRegression(), regressor__fit_intercept=True, regressor__positive=False, scaler=MinMaxScaler(); total time=   0.0s\n",
      "[CV] END regressor=LinearRegression(), regressor__fit_intercept=True, regressor__positive=False, scaler=MinMaxScaler(); total time=   0.0s\n",
      "[CV] END regressor=LinearRegression(), regressor__fit_intercept=True, regressor__positive=False, scaler=MinMaxScaler(); total time=   0.0s\n",
      "[CV] END regressor=LinearRegression(), regressor__fit_intercept=True, regressor__positive=False, scaler=MinMaxScaler(); total time=   0.0s\n",
      "[CV] END regressor=LinearRegression(), regressor__fit_intercept=True, regressor__positive=False, scaler=MinMaxScaler(); total time=   0.0s\n",
      "[CV] END regressor=LinearRegression(), regressor__fit_intercept=True, regressor__positive=False, scaler=MinMaxScaler(); total time=   0.0s\n",
      "[CV] END regressor=LinearRegression(), regressor__fit_intercept=True, regressor__positive=False, scaler=MinMaxScaler(); total time=   0.0s\n",
      "[CV] END regressor=LinearRegression(), regressor__fit_intercept=True, regressor__positive=False, scaler=RobustScaler(); total time=   0.0s\n",
      "[CV] END regressor=LinearRegression(), regressor__fit_intercept=True, regressor__positive=False, scaler=RobustScaler(); total time=   0.0s\n",
      "[CV] END regressor=LinearRegression(), regressor__fit_intercept=True, regressor__positive=False, scaler=RobustScaler(); total time=   0.0s\n",
      "[CV] END regressor=LinearRegression(), regressor__fit_intercept=True, regressor__positive=False, scaler=RobustScaler(); total time=   0.0s\n",
      "[CV] END regressor=LinearRegression(), regressor__fit_intercept=True, regressor__positive=False, scaler=RobustScaler(); total time=   0.0s\n",
      "[CV] END regressor=LinearRegression(), regressor__fit_intercept=True, regressor__positive=False, scaler=RobustScaler(); total time=   0.0s\n",
      "[CV] END regressor=LinearRegression(), regressor__fit_intercept=True, regressor__positive=False, scaler=RobustScaler(); total time=   0.0s\n",
      "[CV] END regressor=LinearRegression(), regressor__fit_intercept=True, regressor__positive=False, scaler=RobustScaler(); total time=   0.0s\n",
      "[CV] END regressor=LinearRegression(), regressor__fit_intercept=True, regressor__positive=False, scaler=RobustScaler(); total time=   0.0s\n",
      "[CV] END regressor=LinearRegression(), regressor__fit_intercept=True, regressor__positive=False, scaler=RobustScaler(); total time=   0.0s\n",
      "[CV] END regressor=LinearRegression(), regressor__fit_intercept=True, regressor__positive=False, scaler=None; total time=   0.0s\n",
      "[CV] END regressor=LinearRegression(), regressor__fit_intercept=True, regressor__positive=False, scaler=None; total time=   0.0s\n",
      "[CV] END regressor=LinearRegression(), regressor__fit_intercept=True, regressor__positive=False, scaler=None; total time=   0.0s\n",
      "[CV] END regressor=LinearRegression(), regressor__fit_intercept=True, regressor__positive=False, scaler=None; total time=   0.0s\n",
      "[CV] END regressor=LinearRegression(), regressor__fit_intercept=True, regressor__positive=False, scaler=None; total time=   0.0s\n",
      "[CV] END regressor=LinearRegression(), regressor__fit_intercept=True, regressor__positive=False, scaler=None; total time=   0.0s\n",
      "[CV] END regressor=LinearRegression(), regressor__fit_intercept=True, regressor__positive=False, scaler=None; total time=   0.0s\n",
      "[CV] END regressor=LinearRegression(), regressor__fit_intercept=True, regressor__positive=False, scaler=None; total time=   0.0s\n",
      "[CV] END regressor=LinearRegression(), regressor__fit_intercept=True, regressor__positive=False, scaler=None; total time=   0.0s\n",
      "[CV] END regressor=LinearRegression(), regressor__fit_intercept=True, regressor__positive=False, scaler=None; total time=   0.0s\n",
      "[CV] END regressor=LinearRegression(), regressor__fit_intercept=False, regressor__positive=True, scaler=StandardScaler(); total time=   0.1s\n",
      "[CV] END regressor=LinearRegression(), regressor__fit_intercept=False, regressor__positive=True, scaler=StandardScaler(); total time=   0.1s\n",
      "[CV] END regressor=LinearRegression(), regressor__fit_intercept=False, regressor__positive=True, scaler=StandardScaler(); total time=   0.1s\n",
      "[CV] END regressor=LinearRegression(), regressor__fit_intercept=False, regressor__positive=True, scaler=StandardScaler(); total time=   0.1s\n",
      "[CV] END regressor=LinearRegression(), regressor__fit_intercept=False, regressor__positive=True, scaler=StandardScaler(); total time=   0.1s\n",
      "[CV] END regressor=LinearRegression(), regressor__fit_intercept=False, regressor__positive=True, scaler=StandardScaler(); total time=   0.1s\n",
      "[CV] END regressor=LinearRegression(), regressor__fit_intercept=False, regressor__positive=True, scaler=StandardScaler(); total time=   0.1s\n",
      "[CV] END regressor=LinearRegression(), regressor__fit_intercept=False, regressor__positive=True, scaler=StandardScaler(); total time=   0.1s\n",
      "[CV] END regressor=LinearRegression(), regressor__fit_intercept=False, regressor__positive=True, scaler=StandardScaler(); total time=   0.1s\n",
      "[CV] END regressor=LinearRegression(), regressor__fit_intercept=False, regressor__positive=True, scaler=StandardScaler(); total time=   0.1s\n",
      "[CV] END regressor=LinearRegression(), regressor__fit_intercept=False, regressor__positive=True, scaler=MinMaxScaler(); total time=   0.1s\n",
      "[CV] END regressor=LinearRegression(), regressor__fit_intercept=False, regressor__positive=True, scaler=MinMaxScaler(); total time=   0.1s\n",
      "[CV] END regressor=LinearRegression(), regressor__fit_intercept=False, regressor__positive=True, scaler=MinMaxScaler(); total time=   0.1s\n",
      "[CV] END regressor=LinearRegression(), regressor__fit_intercept=False, regressor__positive=True, scaler=MinMaxScaler(); total time=   0.1s\n",
      "[CV] END regressor=LinearRegression(), regressor__fit_intercept=False, regressor__positive=True, scaler=MinMaxScaler(); total time=   0.1s\n",
      "[CV] END regressor=LinearRegression(), regressor__fit_intercept=False, regressor__positive=True, scaler=MinMaxScaler(); total time=   0.1s\n",
      "[CV] END regressor=LinearRegression(), regressor__fit_intercept=False, regressor__positive=True, scaler=MinMaxScaler(); total time=   0.1s\n",
      "[CV] END regressor=LinearRegression(), regressor__fit_intercept=False, regressor__positive=True, scaler=MinMaxScaler(); total time=   0.1s\n",
      "[CV] END regressor=LinearRegression(), regressor__fit_intercept=False, regressor__positive=True, scaler=MinMaxScaler(); total time=   0.1s\n",
      "[CV] END regressor=LinearRegression(), regressor__fit_intercept=False, regressor__positive=True, scaler=MinMaxScaler(); total time=   0.1s\n",
      "[CV] END regressor=LinearRegression(), regressor__fit_intercept=False, regressor__positive=True, scaler=RobustScaler(); total time=   0.1s\n",
      "[CV] END regressor=LinearRegression(), regressor__fit_intercept=False, regressor__positive=True, scaler=RobustScaler(); total time=   0.1s\n",
      "[CV] END regressor=LinearRegression(), regressor__fit_intercept=False, regressor__positive=True, scaler=RobustScaler(); total time=   0.1s\n",
      "[CV] END regressor=LinearRegression(), regressor__fit_intercept=False, regressor__positive=True, scaler=RobustScaler(); total time=   0.1s\n",
      "[CV] END regressor=LinearRegression(), regressor__fit_intercept=False, regressor__positive=True, scaler=RobustScaler(); total time=   0.1s\n",
      "[CV] END regressor=LinearRegression(), regressor__fit_intercept=False, regressor__positive=True, scaler=RobustScaler(); total time=   0.1s\n",
      "[CV] END regressor=LinearRegression(), regressor__fit_intercept=False, regressor__positive=True, scaler=RobustScaler(); total time=   0.1s\n",
      "[CV] END regressor=LinearRegression(), regressor__fit_intercept=False, regressor__positive=True, scaler=RobustScaler(); total time=   0.1s\n",
      "[CV] END regressor=LinearRegression(), regressor__fit_intercept=False, regressor__positive=True, scaler=RobustScaler(); total time=   0.1s\n",
      "[CV] END regressor=LinearRegression(), regressor__fit_intercept=False, regressor__positive=True, scaler=RobustScaler(); total time=   0.1s\n",
      "[CV] END regressor=LinearRegression(), regressor__fit_intercept=False, regressor__positive=True, scaler=None; total time=   0.1s\n",
      "[CV] END regressor=LinearRegression(), regressor__fit_intercept=False, regressor__positive=True, scaler=None; total time=   0.1s\n",
      "[CV] END regressor=LinearRegression(), regressor__fit_intercept=False, regressor__positive=True, scaler=None; total time=   0.1s\n",
      "[CV] END regressor=LinearRegression(), regressor__fit_intercept=False, regressor__positive=True, scaler=None; total time=   0.1s\n",
      "[CV] END regressor=LinearRegression(), regressor__fit_intercept=False, regressor__positive=True, scaler=None; total time=   0.1s\n",
      "[CV] END regressor=LinearRegression(), regressor__fit_intercept=False, regressor__positive=True, scaler=None; total time=   0.1s\n",
      "[CV] END regressor=LinearRegression(), regressor__fit_intercept=False, regressor__positive=True, scaler=None; total time=   0.1s\n",
      "[CV] END regressor=LinearRegression(), regressor__fit_intercept=False, regressor__positive=True, scaler=None; total time=   0.1s\n",
      "[CV] END regressor=LinearRegression(), regressor__fit_intercept=False, regressor__positive=True, scaler=None; total time=   0.1s\n",
      "[CV] END regressor=LinearRegression(), regressor__fit_intercept=False, regressor__positive=True, scaler=None; total time=   0.1s\n",
      "[CV] END regressor=LinearRegression(), regressor__fit_intercept=False, regressor__positive=False, scaler=StandardScaler(); total time=   0.0s\n",
      "[CV] END regressor=LinearRegression(), regressor__fit_intercept=False, regressor__positive=False, scaler=StandardScaler(); total time=   0.0s\n",
      "[CV] END regressor=LinearRegression(), regressor__fit_intercept=False, regressor__positive=False, scaler=StandardScaler(); total time=   0.0s\n",
      "[CV] END regressor=LinearRegression(), regressor__fit_intercept=False, regressor__positive=False, scaler=StandardScaler(); total time=   0.0s\n",
      "[CV] END regressor=LinearRegression(), regressor__fit_intercept=False, regressor__positive=False, scaler=StandardScaler(); total time=   0.0s\n",
      "[CV] END regressor=LinearRegression(), regressor__fit_intercept=False, regressor__positive=False, scaler=StandardScaler(); total time=   0.0s\n",
      "[CV] END regressor=LinearRegression(), regressor__fit_intercept=False, regressor__positive=False, scaler=StandardScaler(); total time=   0.0s\n",
      "[CV] END regressor=LinearRegression(), regressor__fit_intercept=False, regressor__positive=False, scaler=StandardScaler(); total time=   0.0s\n",
      "[CV] END regressor=LinearRegression(), regressor__fit_intercept=False, regressor__positive=False, scaler=StandardScaler(); total time=   0.0s\n",
      "[CV] END regressor=LinearRegression(), regressor__fit_intercept=False, regressor__positive=False, scaler=StandardScaler(); total time=   0.0s\n",
      "[CV] END regressor=LinearRegression(), regressor__fit_intercept=False, regressor__positive=False, scaler=MinMaxScaler(); total time=   0.0s\n",
      "[CV] END regressor=LinearRegression(), regressor__fit_intercept=False, regressor__positive=False, scaler=MinMaxScaler(); total time=   0.0s\n",
      "[CV] END regressor=LinearRegression(), regressor__fit_intercept=False, regressor__positive=False, scaler=MinMaxScaler(); total time=   0.0s\n",
      "[CV] END regressor=LinearRegression(), regressor__fit_intercept=False, regressor__positive=False, scaler=MinMaxScaler(); total time=   0.0s\n",
      "[CV] END regressor=LinearRegression(), regressor__fit_intercept=False, regressor__positive=False, scaler=MinMaxScaler(); total time=   0.0s\n",
      "[CV] END regressor=LinearRegression(), regressor__fit_intercept=False, regressor__positive=False, scaler=MinMaxScaler(); total time=   0.0s\n",
      "[CV] END regressor=LinearRegression(), regressor__fit_intercept=False, regressor__positive=False, scaler=MinMaxScaler(); total time=   0.0s\n",
      "[CV] END regressor=LinearRegression(), regressor__fit_intercept=False, regressor__positive=False, scaler=MinMaxScaler(); total time=   0.0s\n",
      "[CV] END regressor=LinearRegression(), regressor__fit_intercept=False, regressor__positive=False, scaler=MinMaxScaler(); total time=   0.0s\n",
      "[CV] END regressor=LinearRegression(), regressor__fit_intercept=False, regressor__positive=False, scaler=MinMaxScaler(); total time=   0.0s\n",
      "[CV] END regressor=LinearRegression(), regressor__fit_intercept=False, regressor__positive=False, scaler=RobustScaler(); total time=   0.1s\n",
      "[CV] END regressor=LinearRegression(), regressor__fit_intercept=False, regressor__positive=False, scaler=RobustScaler(); total time=   0.0s\n",
      "[CV] END regressor=LinearRegression(), regressor__fit_intercept=False, regressor__positive=False, scaler=RobustScaler(); total time=   0.0s\n",
      "[CV] END regressor=LinearRegression(), regressor__fit_intercept=False, regressor__positive=False, scaler=RobustScaler(); total time=   0.1s\n",
      "[CV] END regressor=LinearRegression(), regressor__fit_intercept=False, regressor__positive=False, scaler=RobustScaler(); total time=   0.0s\n",
      "[CV] END regressor=LinearRegression(), regressor__fit_intercept=False, regressor__positive=False, scaler=RobustScaler(); total time=   0.1s\n",
      "[CV] END regressor=LinearRegression(), regressor__fit_intercept=False, regressor__positive=False, scaler=RobustScaler(); total time=   0.0s\n",
      "[CV] END regressor=LinearRegression(), regressor__fit_intercept=False, regressor__positive=False, scaler=RobustScaler(); total time=   0.1s\n",
      "[CV] END regressor=LinearRegression(), regressor__fit_intercept=False, regressor__positive=False, scaler=RobustScaler(); total time=   0.1s\n",
      "[CV] END regressor=LinearRegression(), regressor__fit_intercept=False, regressor__positive=False, scaler=RobustScaler(); total time=   0.0s\n",
      "[CV] END regressor=LinearRegression(), regressor__fit_intercept=False, regressor__positive=False, scaler=None; total time=   0.0s\n",
      "[CV] END regressor=LinearRegression(), regressor__fit_intercept=False, regressor__positive=False, scaler=None; total time=   0.0s\n",
      "[CV] END regressor=LinearRegression(), regressor__fit_intercept=False, regressor__positive=False, scaler=None; total time=   0.0s\n",
      "[CV] END regressor=LinearRegression(), regressor__fit_intercept=False, regressor__positive=False, scaler=None; total time=   0.0s\n",
      "[CV] END regressor=LinearRegression(), regressor__fit_intercept=False, regressor__positive=False, scaler=None; total time=   0.0s\n",
      "[CV] END regressor=LinearRegression(), regressor__fit_intercept=False, regressor__positive=False, scaler=None; total time=   0.0s\n",
      "[CV] END regressor=LinearRegression(), regressor__fit_intercept=False, regressor__positive=False, scaler=None; total time=   0.0s\n",
      "[CV] END regressor=LinearRegression(), regressor__fit_intercept=False, regressor__positive=False, scaler=None; total time=   0.0s\n",
      "[CV] END regressor=LinearRegression(), regressor__fit_intercept=False, regressor__positive=False, scaler=None; total time=   0.0s\n",
      "[CV] END regressor=LinearRegression(), regressor__fit_intercept=False, regressor__positive=False, scaler=None; total time=   0.0s\n",
      "[CV] END regressor=Ridge(max_iter=10000, random_state=42), regressor__alpha=0.1, regressor__fit_intercept=True, scaler=StandardScaler(); total time=   0.1s\n",
      "[CV] END regressor=Ridge(max_iter=10000, random_state=42), regressor__alpha=0.1, regressor__fit_intercept=True, scaler=StandardScaler(); total time=   0.0s\n",
      "[CV] END regressor=Ridge(max_iter=10000, random_state=42), regressor__alpha=0.1, regressor__fit_intercept=True, scaler=StandardScaler(); total time=   0.0s\n",
      "[CV] END regressor=Ridge(max_iter=10000, random_state=42), regressor__alpha=0.1, regressor__fit_intercept=True, scaler=StandardScaler(); total time=   0.0s\n",
      "[CV] END regressor=Ridge(max_iter=10000, random_state=42), regressor__alpha=0.1, regressor__fit_intercept=True, scaler=StandardScaler(); total time=   0.0s\n",
      "[CV] END regressor=Ridge(max_iter=10000, random_state=42), regressor__alpha=0.1, regressor__fit_intercept=True, scaler=StandardScaler(); total time=   0.0s\n",
      "[CV] END regressor=Ridge(max_iter=10000, random_state=42), regressor__alpha=0.1, regressor__fit_intercept=True, scaler=StandardScaler(); total time=   0.0s\n",
      "[CV] END regressor=Ridge(max_iter=10000, random_state=42), regressor__alpha=0.1, regressor__fit_intercept=True, scaler=StandardScaler(); total time=   0.0s\n",
      "[CV] END regressor=Ridge(max_iter=10000, random_state=42), regressor__alpha=0.1, regressor__fit_intercept=True, scaler=StandardScaler(); total time=   0.0s\n",
      "[CV] END regressor=Ridge(max_iter=10000, random_state=42), regressor__alpha=0.1, regressor__fit_intercept=True, scaler=StandardScaler(); total time=   0.0s\n",
      "[CV] END regressor=Ridge(max_iter=10000, random_state=42), regressor__alpha=0.1, regressor__fit_intercept=True, scaler=MinMaxScaler(); total time=   0.0s\n",
      "[CV] END regressor=Ridge(max_iter=10000, random_state=42), regressor__alpha=0.1, regressor__fit_intercept=True, scaler=MinMaxScaler(); total time=   0.0s\n",
      "[CV] END regressor=Ridge(max_iter=10000, random_state=42), regressor__alpha=0.1, regressor__fit_intercept=True, scaler=MinMaxScaler(); total time=   0.0s\n",
      "[CV] END regressor=Ridge(max_iter=10000, random_state=42), regressor__alpha=0.1, regressor__fit_intercept=True, scaler=MinMaxScaler(); total time=   0.0s\n",
      "[CV] END regressor=Ridge(max_iter=10000, random_state=42), regressor__alpha=0.1, regressor__fit_intercept=True, scaler=MinMaxScaler(); total time=   0.0s\n",
      "[CV] END regressor=Ridge(max_iter=10000, random_state=42), regressor__alpha=0.1, regressor__fit_intercept=True, scaler=MinMaxScaler(); total time=   0.0s\n",
      "[CV] END regressor=Ridge(max_iter=10000, random_state=42), regressor__alpha=0.1, regressor__fit_intercept=True, scaler=MinMaxScaler(); total time=   0.0s\n",
      "[CV] END regressor=Ridge(max_iter=10000, random_state=42), regressor__alpha=0.1, regressor__fit_intercept=True, scaler=MinMaxScaler(); total time=   0.0s\n",
      "[CV] END regressor=Ridge(max_iter=10000, random_state=42), regressor__alpha=0.1, regressor__fit_intercept=True, scaler=MinMaxScaler(); total time=   0.0s\n",
      "[CV] END regressor=Ridge(max_iter=10000, random_state=42), regressor__alpha=0.1, regressor__fit_intercept=True, scaler=MinMaxScaler(); total time=   0.0s\n",
      "[CV] END regressor=Ridge(max_iter=10000, random_state=42), regressor__alpha=0.1, regressor__fit_intercept=True, scaler=RobustScaler(); total time=   0.0s\n",
      "[CV] END regressor=Ridge(max_iter=10000, random_state=42), regressor__alpha=0.1, regressor__fit_intercept=True, scaler=RobustScaler(); total time=   0.0s\n",
      "[CV] END regressor=Ridge(max_iter=10000, random_state=42), regressor__alpha=0.1, regressor__fit_intercept=True, scaler=RobustScaler(); total time=   0.0s\n",
      "[CV] END regressor=Ridge(max_iter=10000, random_state=42), regressor__alpha=0.1, regressor__fit_intercept=True, scaler=RobustScaler(); total time=   0.0s\n",
      "[CV] END regressor=Ridge(max_iter=10000, random_state=42), regressor__alpha=0.1, regressor__fit_intercept=True, scaler=RobustScaler(); total time=   0.0s\n",
      "[CV] END regressor=Ridge(max_iter=10000, random_state=42), regressor__alpha=0.1, regressor__fit_intercept=True, scaler=RobustScaler(); total time=   0.0s\n",
      "[CV] END regressor=Ridge(max_iter=10000, random_state=42), regressor__alpha=0.1, regressor__fit_intercept=True, scaler=RobustScaler(); total time=   0.0s\n",
      "[CV] END regressor=Ridge(max_iter=10000, random_state=42), regressor__alpha=0.1, regressor__fit_intercept=True, scaler=RobustScaler(); total time=   0.0s\n",
      "[CV] END regressor=Ridge(max_iter=10000, random_state=42), regressor__alpha=0.1, regressor__fit_intercept=True, scaler=RobustScaler(); total time=   0.0s\n",
      "[CV] END regressor=Ridge(max_iter=10000, random_state=42), regressor__alpha=0.1, regressor__fit_intercept=True, scaler=RobustScaler(); total time=   0.0s\n",
      "[CV] END regressor=Ridge(max_iter=10000, random_state=42), regressor__alpha=0.1, regressor__fit_intercept=True, scaler=None; total time=   0.0s\n",
      "[CV] END regressor=Ridge(max_iter=10000, random_state=42), regressor__alpha=0.1, regressor__fit_intercept=True, scaler=None; total time=   0.0s\n",
      "[CV] END regressor=Ridge(max_iter=10000, random_state=42), regressor__alpha=0.1, regressor__fit_intercept=True, scaler=None; total time=   0.0s\n",
      "[CV] END regressor=Ridge(max_iter=10000, random_state=42), regressor__alpha=0.1, regressor__fit_intercept=True, scaler=None; total time=   0.0s\n",
      "[CV] END regressor=Ridge(max_iter=10000, random_state=42), regressor__alpha=0.1, regressor__fit_intercept=True, scaler=None; total time=   0.0s\n",
      "[CV] END regressor=Ridge(max_iter=10000, random_state=42), regressor__alpha=0.1, regressor__fit_intercept=True, scaler=None; total time=   0.0s\n",
      "[CV] END regressor=Ridge(max_iter=10000, random_state=42), regressor__alpha=0.1, regressor__fit_intercept=True, scaler=None; total time=   0.0s\n",
      "[CV] END regressor=Ridge(max_iter=10000, random_state=42), regressor__alpha=0.1, regressor__fit_intercept=True, scaler=None; total time=   0.0s\n",
      "[CV] END regressor=Ridge(max_iter=10000, random_state=42), regressor__alpha=0.1, regressor__fit_intercept=True, scaler=None; total time=   0.0s\n",
      "[CV] END regressor=Ridge(max_iter=10000, random_state=42), regressor__alpha=0.1, regressor__fit_intercept=True, scaler=None; total time=   0.0s\n",
      "[CV] END regressor=Ridge(max_iter=10000, random_state=42), regressor__alpha=0.1, regressor__fit_intercept=False, scaler=StandardScaler(); total time=   0.0s\n",
      "[CV] END regressor=Ridge(max_iter=10000, random_state=42), regressor__alpha=0.1, regressor__fit_intercept=False, scaler=StandardScaler(); total time=   0.0s\n",
      "[CV] END regressor=Ridge(max_iter=10000, random_state=42), regressor__alpha=0.1, regressor__fit_intercept=False, scaler=StandardScaler(); total time=   0.0s\n",
      "[CV] END regressor=Ridge(max_iter=10000, random_state=42), regressor__alpha=0.1, regressor__fit_intercept=False, scaler=StandardScaler(); total time=   0.0s\n",
      "[CV] END regressor=Ridge(max_iter=10000, random_state=42), regressor__alpha=0.1, regressor__fit_intercept=False, scaler=StandardScaler(); total time=   0.0s\n",
      "[CV] END regressor=Ridge(max_iter=10000, random_state=42), regressor__alpha=0.1, regressor__fit_intercept=False, scaler=StandardScaler(); total time=   0.0s\n",
      "[CV] END regressor=Ridge(max_iter=10000, random_state=42), regressor__alpha=0.1, regressor__fit_intercept=False, scaler=StandardScaler(); total time=   0.0s\n",
      "[CV] END regressor=Ridge(max_iter=10000, random_state=42), regressor__alpha=0.1, regressor__fit_intercept=False, scaler=StandardScaler(); total time=   0.0s\n",
      "[CV] END regressor=Ridge(max_iter=10000, random_state=42), regressor__alpha=0.1, regressor__fit_intercept=False, scaler=StandardScaler(); total time=   0.0s\n",
      "[CV] END regressor=Ridge(max_iter=10000, random_state=42), regressor__alpha=0.1, regressor__fit_intercept=False, scaler=StandardScaler(); total time=   0.0s\n",
      "[CV] END regressor=Ridge(max_iter=10000, random_state=42), regressor__alpha=0.1, regressor__fit_intercept=False, scaler=MinMaxScaler(); total time=   0.0s\n",
      "[CV] END regressor=Ridge(max_iter=10000, random_state=42), regressor__alpha=0.1, regressor__fit_intercept=False, scaler=MinMaxScaler(); total time=   0.0s\n",
      "[CV] END regressor=Ridge(max_iter=10000, random_state=42), regressor__alpha=0.1, regressor__fit_intercept=False, scaler=MinMaxScaler(); total time=   0.0s\n",
      "[CV] END regressor=Ridge(max_iter=10000, random_state=42), regressor__alpha=0.1, regressor__fit_intercept=False, scaler=MinMaxScaler(); total time=   0.0s\n",
      "[CV] END regressor=Ridge(max_iter=10000, random_state=42), regressor__alpha=0.1, regressor__fit_intercept=False, scaler=MinMaxScaler(); total time=   0.0s\n",
      "[CV] END regressor=Ridge(max_iter=10000, random_state=42), regressor__alpha=0.1, regressor__fit_intercept=False, scaler=MinMaxScaler(); total time=   0.0s\n",
      "[CV] END regressor=Ridge(max_iter=10000, random_state=42), regressor__alpha=0.1, regressor__fit_intercept=False, scaler=MinMaxScaler(); total time=   0.0s\n",
      "[CV] END regressor=Ridge(max_iter=10000, random_state=42), regressor__alpha=0.1, regressor__fit_intercept=False, scaler=MinMaxScaler(); total time=   0.0s\n",
      "[CV] END regressor=Ridge(max_iter=10000, random_state=42), regressor__alpha=0.1, regressor__fit_intercept=False, scaler=MinMaxScaler(); total time=   0.0s\n",
      "[CV] END regressor=Ridge(max_iter=10000, random_state=42), regressor__alpha=0.1, regressor__fit_intercept=False, scaler=MinMaxScaler(); total time=   0.0s\n",
      "[CV] END regressor=Ridge(max_iter=10000, random_state=42), regressor__alpha=0.1, regressor__fit_intercept=False, scaler=RobustScaler(); total time=   0.0s\n",
      "[CV] END regressor=Ridge(max_iter=10000, random_state=42), regressor__alpha=0.1, regressor__fit_intercept=False, scaler=RobustScaler(); total time=   0.0s\n",
      "[CV] END regressor=Ridge(max_iter=10000, random_state=42), regressor__alpha=0.1, regressor__fit_intercept=False, scaler=RobustScaler(); total time=   0.0s\n",
      "[CV] END regressor=Ridge(max_iter=10000, random_state=42), regressor__alpha=0.1, regressor__fit_intercept=False, scaler=RobustScaler(); total time=   0.0s\n",
      "[CV] END regressor=Ridge(max_iter=10000, random_state=42), regressor__alpha=0.1, regressor__fit_intercept=False, scaler=RobustScaler(); total time=   0.0s\n",
      "[CV] END regressor=Ridge(max_iter=10000, random_state=42), regressor__alpha=0.1, regressor__fit_intercept=False, scaler=RobustScaler(); total time=   0.0s\n",
      "[CV] END regressor=Ridge(max_iter=10000, random_state=42), regressor__alpha=0.1, regressor__fit_intercept=False, scaler=RobustScaler(); total time=   0.0s\n",
      "[CV] END regressor=Ridge(max_iter=10000, random_state=42), regressor__alpha=0.1, regressor__fit_intercept=False, scaler=RobustScaler(); total time=   0.0s\n",
      "[CV] END regressor=Ridge(max_iter=10000, random_state=42), regressor__alpha=0.1, regressor__fit_intercept=False, scaler=RobustScaler(); total time=   0.0s\n",
      "[CV] END regressor=Ridge(max_iter=10000, random_state=42), regressor__alpha=0.1, regressor__fit_intercept=False, scaler=RobustScaler(); total time=   0.0s\n",
      "[CV] END regressor=Ridge(max_iter=10000, random_state=42), regressor__alpha=0.1, regressor__fit_intercept=False, scaler=None; total time=   0.0s\n",
      "[CV] END regressor=Ridge(max_iter=10000, random_state=42), regressor__alpha=0.1, regressor__fit_intercept=False, scaler=None; total time=   0.0s\n",
      "[CV] END regressor=Ridge(max_iter=10000, random_state=42), regressor__alpha=0.1, regressor__fit_intercept=False, scaler=None; total time=   0.0s\n",
      "[CV] END regressor=Ridge(max_iter=10000, random_state=42), regressor__alpha=0.1, regressor__fit_intercept=False, scaler=None; total time=   0.0s\n",
      "[CV] END regressor=Ridge(max_iter=10000, random_state=42), regressor__alpha=0.1, regressor__fit_intercept=False, scaler=None; total time=   0.0s\n",
      "[CV] END regressor=Ridge(max_iter=10000, random_state=42), regressor__alpha=0.1, regressor__fit_intercept=False, scaler=None; total time=   0.0s\n",
      "[CV] END regressor=Ridge(max_iter=10000, random_state=42), regressor__alpha=0.1, regressor__fit_intercept=False, scaler=None; total time=   0.0s\n",
      "[CV] END regressor=Ridge(max_iter=10000, random_state=42), regressor__alpha=0.1, regressor__fit_intercept=False, scaler=None; total time=   0.0s\n",
      "[CV] END regressor=Ridge(max_iter=10000, random_state=42), regressor__alpha=0.1, regressor__fit_intercept=False, scaler=None; total time=   0.0s\n",
      "[CV] END regressor=Ridge(max_iter=10000, random_state=42), regressor__alpha=0.1, regressor__fit_intercept=False, scaler=None; total time=   0.0s\n",
      "[CV] END regressor=Ridge(max_iter=10000, random_state=42), regressor__alpha=1.0, regressor__fit_intercept=True, scaler=StandardScaler(); total time=   0.0s\n",
      "[CV] END regressor=Ridge(max_iter=10000, random_state=42), regressor__alpha=1.0, regressor__fit_intercept=True, scaler=StandardScaler(); total time=   0.0s\n",
      "[CV] END regressor=Ridge(max_iter=10000, random_state=42), regressor__alpha=1.0, regressor__fit_intercept=True, scaler=StandardScaler(); total time=   0.0s\n",
      "[CV] END regressor=Ridge(max_iter=10000, random_state=42), regressor__alpha=1.0, regressor__fit_intercept=True, scaler=StandardScaler(); total time=   0.0s\n",
      "[CV] END regressor=Ridge(max_iter=10000, random_state=42), regressor__alpha=1.0, regressor__fit_intercept=True, scaler=StandardScaler(); total time=   0.0s\n",
      "[CV] END regressor=Ridge(max_iter=10000, random_state=42), regressor__alpha=1.0, regressor__fit_intercept=True, scaler=StandardScaler(); total time=   0.0s\n",
      "[CV] END regressor=Ridge(max_iter=10000, random_state=42), regressor__alpha=1.0, regressor__fit_intercept=True, scaler=StandardScaler(); total time=   0.0s\n",
      "[CV] END regressor=Ridge(max_iter=10000, random_state=42), regressor__alpha=1.0, regressor__fit_intercept=True, scaler=StandardScaler(); total time=   0.0s\n",
      "[CV] END regressor=Ridge(max_iter=10000, random_state=42), regressor__alpha=1.0, regressor__fit_intercept=True, scaler=StandardScaler(); total time=   0.0s\n",
      "[CV] END regressor=Ridge(max_iter=10000, random_state=42), regressor__alpha=1.0, regressor__fit_intercept=True, scaler=StandardScaler(); total time=   0.0s\n",
      "[CV] END regressor=Ridge(max_iter=10000, random_state=42), regressor__alpha=1.0, regressor__fit_intercept=True, scaler=MinMaxScaler(); total time=   0.0s\n",
      "[CV] END regressor=Ridge(max_iter=10000, random_state=42), regressor__alpha=1.0, regressor__fit_intercept=True, scaler=MinMaxScaler(); total time=   0.0s\n",
      "[CV] END regressor=Ridge(max_iter=10000, random_state=42), regressor__alpha=1.0, regressor__fit_intercept=True, scaler=MinMaxScaler(); total time=   0.0s\n",
      "[CV] END regressor=Ridge(max_iter=10000, random_state=42), regressor__alpha=1.0, regressor__fit_intercept=True, scaler=MinMaxScaler(); total time=   0.0s\n",
      "[CV] END regressor=Ridge(max_iter=10000, random_state=42), regressor__alpha=1.0, regressor__fit_intercept=True, scaler=MinMaxScaler(); total time=   0.0s\n",
      "[CV] END regressor=Ridge(max_iter=10000, random_state=42), regressor__alpha=1.0, regressor__fit_intercept=True, scaler=MinMaxScaler(); total time=   0.0s\n",
      "[CV] END regressor=Ridge(max_iter=10000, random_state=42), regressor__alpha=1.0, regressor__fit_intercept=True, scaler=MinMaxScaler(); total time=   0.0s\n",
      "[CV] END regressor=Ridge(max_iter=10000, random_state=42), regressor__alpha=1.0, regressor__fit_intercept=True, scaler=MinMaxScaler(); total time=   0.0s\n",
      "[CV] END regressor=Ridge(max_iter=10000, random_state=42), regressor__alpha=1.0, regressor__fit_intercept=True, scaler=MinMaxScaler(); total time=   0.0s\n",
      "[CV] END regressor=Ridge(max_iter=10000, random_state=42), regressor__alpha=1.0, regressor__fit_intercept=True, scaler=MinMaxScaler(); total time=   0.0s\n",
      "[CV] END regressor=Ridge(max_iter=10000, random_state=42), regressor__alpha=1.0, regressor__fit_intercept=True, scaler=RobustScaler(); total time=   0.0s\n",
      "[CV] END regressor=Ridge(max_iter=10000, random_state=42), regressor__alpha=1.0, regressor__fit_intercept=True, scaler=RobustScaler(); total time=   0.0s\n",
      "[CV] END regressor=Ridge(max_iter=10000, random_state=42), regressor__alpha=1.0, regressor__fit_intercept=True, scaler=RobustScaler(); total time=   0.0s\n",
      "[CV] END regressor=Ridge(max_iter=10000, random_state=42), regressor__alpha=1.0, regressor__fit_intercept=True, scaler=RobustScaler(); total time=   0.0s\n",
      "[CV] END regressor=Ridge(max_iter=10000, random_state=42), regressor__alpha=1.0, regressor__fit_intercept=True, scaler=RobustScaler(); total time=   0.0s\n",
      "[CV] END regressor=Ridge(max_iter=10000, random_state=42), regressor__alpha=1.0, regressor__fit_intercept=True, scaler=RobustScaler(); total time=   0.0s\n",
      "[CV] END regressor=Ridge(max_iter=10000, random_state=42), regressor__alpha=1.0, regressor__fit_intercept=True, scaler=RobustScaler(); total time=   0.0s\n",
      "[CV] END regressor=Ridge(max_iter=10000, random_state=42), regressor__alpha=1.0, regressor__fit_intercept=True, scaler=RobustScaler(); total time=   0.0s\n",
      "[CV] END regressor=Ridge(max_iter=10000, random_state=42), regressor__alpha=1.0, regressor__fit_intercept=True, scaler=RobustScaler(); total time=   0.0s\n",
      "[CV] END regressor=Ridge(max_iter=10000, random_state=42), regressor__alpha=1.0, regressor__fit_intercept=True, scaler=RobustScaler(); total time=   0.0s\n",
      "[CV] END regressor=Ridge(max_iter=10000, random_state=42), regressor__alpha=1.0, regressor__fit_intercept=True, scaler=None; total time=   0.0s\n",
      "[CV] END regressor=Ridge(max_iter=10000, random_state=42), regressor__alpha=1.0, regressor__fit_intercept=True, scaler=None; total time=   0.0s\n",
      "[CV] END regressor=Ridge(max_iter=10000, random_state=42), regressor__alpha=1.0, regressor__fit_intercept=True, scaler=None; total time=   0.0s\n",
      "[CV] END regressor=Ridge(max_iter=10000, random_state=42), regressor__alpha=1.0, regressor__fit_intercept=True, scaler=None; total time=   0.0s\n",
      "[CV] END regressor=Ridge(max_iter=10000, random_state=42), regressor__alpha=1.0, regressor__fit_intercept=True, scaler=None; total time=   0.0s\n",
      "[CV] END regressor=Ridge(max_iter=10000, random_state=42), regressor__alpha=1.0, regressor__fit_intercept=True, scaler=None; total time=   0.0s\n",
      "[CV] END regressor=Ridge(max_iter=10000, random_state=42), regressor__alpha=1.0, regressor__fit_intercept=True, scaler=None; total time=   0.0s\n",
      "[CV] END regressor=Ridge(max_iter=10000, random_state=42), regressor__alpha=1.0, regressor__fit_intercept=True, scaler=None; total time=   0.0s\n",
      "[CV] END regressor=Ridge(max_iter=10000, random_state=42), regressor__alpha=1.0, regressor__fit_intercept=True, scaler=None; total time=   0.0s\n",
      "[CV] END regressor=Ridge(max_iter=10000, random_state=42), regressor__alpha=1.0, regressor__fit_intercept=True, scaler=None; total time=   0.0s\n",
      "[CV] END regressor=Ridge(max_iter=10000, random_state=42), regressor__alpha=1.0, regressor__fit_intercept=False, scaler=StandardScaler(); total time=   0.0s\n",
      "[CV] END regressor=Ridge(max_iter=10000, random_state=42), regressor__alpha=1.0, regressor__fit_intercept=False, scaler=StandardScaler(); total time=   0.0s\n",
      "[CV] END regressor=Ridge(max_iter=10000, random_state=42), regressor__alpha=1.0, regressor__fit_intercept=False, scaler=StandardScaler(); total time=   0.0s\n",
      "[CV] END regressor=Ridge(max_iter=10000, random_state=42), regressor__alpha=1.0, regressor__fit_intercept=False, scaler=StandardScaler(); total time=   0.0s\n",
      "[CV] END regressor=Ridge(max_iter=10000, random_state=42), regressor__alpha=1.0, regressor__fit_intercept=False, scaler=StandardScaler(); total time=   0.0s\n",
      "[CV] END regressor=Ridge(max_iter=10000, random_state=42), regressor__alpha=1.0, regressor__fit_intercept=False, scaler=StandardScaler(); total time=   0.0s\n",
      "[CV] END regressor=Ridge(max_iter=10000, random_state=42), regressor__alpha=1.0, regressor__fit_intercept=False, scaler=StandardScaler(); total time=   0.0s\n",
      "[CV] END regressor=Ridge(max_iter=10000, random_state=42), regressor__alpha=1.0, regressor__fit_intercept=False, scaler=StandardScaler(); total time=   0.0s\n",
      "[CV] END regressor=Ridge(max_iter=10000, random_state=42), regressor__alpha=1.0, regressor__fit_intercept=False, scaler=StandardScaler(); total time=   0.0s\n",
      "[CV] END regressor=Ridge(max_iter=10000, random_state=42), regressor__alpha=1.0, regressor__fit_intercept=False, scaler=StandardScaler(); total time=   0.0s\n",
      "[CV] END regressor=Ridge(max_iter=10000, random_state=42), regressor__alpha=1.0, regressor__fit_intercept=False, scaler=MinMaxScaler(); total time=   0.0s\n",
      "[CV] END regressor=Ridge(max_iter=10000, random_state=42), regressor__alpha=1.0, regressor__fit_intercept=False, scaler=MinMaxScaler(); total time=   0.0s\n",
      "[CV] END regressor=Ridge(max_iter=10000, random_state=42), regressor__alpha=1.0, regressor__fit_intercept=False, scaler=MinMaxScaler(); total time=   0.0s\n",
      "[CV] END regressor=Ridge(max_iter=10000, random_state=42), regressor__alpha=1.0, regressor__fit_intercept=False, scaler=MinMaxScaler(); total time=   0.0s\n",
      "[CV] END regressor=Ridge(max_iter=10000, random_state=42), regressor__alpha=1.0, regressor__fit_intercept=False, scaler=MinMaxScaler(); total time=   0.0s\n",
      "[CV] END regressor=Ridge(max_iter=10000, random_state=42), regressor__alpha=1.0, regressor__fit_intercept=False, scaler=MinMaxScaler(); total time=   0.0s\n",
      "[CV] END regressor=Ridge(max_iter=10000, random_state=42), regressor__alpha=1.0, regressor__fit_intercept=False, scaler=MinMaxScaler(); total time=   0.0s\n",
      "[CV] END regressor=Ridge(max_iter=10000, random_state=42), regressor__alpha=1.0, regressor__fit_intercept=False, scaler=MinMaxScaler(); total time=   0.0s\n",
      "[CV] END regressor=Ridge(max_iter=10000, random_state=42), regressor__alpha=1.0, regressor__fit_intercept=False, scaler=MinMaxScaler(); total time=   0.0s\n",
      "[CV] END regressor=Ridge(max_iter=10000, random_state=42), regressor__alpha=1.0, regressor__fit_intercept=False, scaler=MinMaxScaler(); total time=   0.0s\n",
      "[CV] END regressor=Ridge(max_iter=10000, random_state=42), regressor__alpha=1.0, regressor__fit_intercept=False, scaler=RobustScaler(); total time=   0.0s\n",
      "[CV] END regressor=Ridge(max_iter=10000, random_state=42), regressor__alpha=1.0, regressor__fit_intercept=False, scaler=RobustScaler(); total time=   0.0s\n",
      "[CV] END regressor=Ridge(max_iter=10000, random_state=42), regressor__alpha=1.0, regressor__fit_intercept=False, scaler=RobustScaler(); total time=   0.0s\n",
      "[CV] END regressor=Ridge(max_iter=10000, random_state=42), regressor__alpha=1.0, regressor__fit_intercept=False, scaler=RobustScaler(); total time=   0.0s\n",
      "[CV] END regressor=Ridge(max_iter=10000, random_state=42), regressor__alpha=1.0, regressor__fit_intercept=False, scaler=RobustScaler(); total time=   0.0s\n",
      "[CV] END regressor=Ridge(max_iter=10000, random_state=42), regressor__alpha=1.0, regressor__fit_intercept=False, scaler=RobustScaler(); total time=   0.0s\n",
      "[CV] END regressor=Ridge(max_iter=10000, random_state=42), regressor__alpha=1.0, regressor__fit_intercept=False, scaler=RobustScaler(); total time=   0.0s\n",
      "[CV] END regressor=Ridge(max_iter=10000, random_state=42), regressor__alpha=1.0, regressor__fit_intercept=False, scaler=RobustScaler(); total time=   0.0s\n",
      "[CV] END regressor=Ridge(max_iter=10000, random_state=42), regressor__alpha=1.0, regressor__fit_intercept=False, scaler=RobustScaler(); total time=   0.0s\n",
      "[CV] END regressor=Ridge(max_iter=10000, random_state=42), regressor__alpha=1.0, regressor__fit_intercept=False, scaler=RobustScaler(); total time=   0.0s\n",
      "[CV] END regressor=Ridge(max_iter=10000, random_state=42), regressor__alpha=1.0, regressor__fit_intercept=False, scaler=None; total time=   0.0s\n",
      "[CV] END regressor=Ridge(max_iter=10000, random_state=42), regressor__alpha=1.0, regressor__fit_intercept=False, scaler=None; total time=   0.0s\n",
      "[CV] END regressor=Ridge(max_iter=10000, random_state=42), regressor__alpha=1.0, regressor__fit_intercept=False, scaler=None; total time=   0.0s\n",
      "[CV] END regressor=Ridge(max_iter=10000, random_state=42), regressor__alpha=1.0, regressor__fit_intercept=False, scaler=None; total time=   0.0s\n",
      "[CV] END regressor=Ridge(max_iter=10000, random_state=42), regressor__alpha=1.0, regressor__fit_intercept=False, scaler=None; total time=   0.0s\n",
      "[CV] END regressor=Ridge(max_iter=10000, random_state=42), regressor__alpha=1.0, regressor__fit_intercept=False, scaler=None; total time=   0.0s\n",
      "[CV] END regressor=Ridge(max_iter=10000, random_state=42), regressor__alpha=1.0, regressor__fit_intercept=False, scaler=None; total time=   0.0s\n",
      "[CV] END regressor=Ridge(max_iter=10000, random_state=42), regressor__alpha=1.0, regressor__fit_intercept=False, scaler=None; total time=   0.0s\n",
      "[CV] END regressor=Ridge(max_iter=10000, random_state=42), regressor__alpha=1.0, regressor__fit_intercept=False, scaler=None; total time=   0.0s\n",
      "[CV] END regressor=Ridge(max_iter=10000, random_state=42), regressor__alpha=1.0, regressor__fit_intercept=False, scaler=None; total time=   0.0s\n",
      "[CV] END regressor=Ridge(max_iter=10000, random_state=42), regressor__alpha=10.0, regressor__fit_intercept=True, scaler=StandardScaler(); total time=   0.0s\n",
      "[CV] END regressor=Ridge(max_iter=10000, random_state=42), regressor__alpha=10.0, regressor__fit_intercept=True, scaler=StandardScaler(); total time=   0.0s\n",
      "[CV] END regressor=Ridge(max_iter=10000, random_state=42), regressor__alpha=10.0, regressor__fit_intercept=True, scaler=StandardScaler(); total time=   0.0s\n",
      "[CV] END regressor=Ridge(max_iter=10000, random_state=42), regressor__alpha=10.0, regressor__fit_intercept=True, scaler=StandardScaler(); total time=   0.0s\n",
      "[CV] END regressor=Ridge(max_iter=10000, random_state=42), regressor__alpha=10.0, regressor__fit_intercept=True, scaler=StandardScaler(); total time=   0.0s\n",
      "[CV] END regressor=Ridge(max_iter=10000, random_state=42), regressor__alpha=10.0, regressor__fit_intercept=True, scaler=StandardScaler(); total time=   0.0s\n",
      "[CV] END regressor=Ridge(max_iter=10000, random_state=42), regressor__alpha=10.0, regressor__fit_intercept=True, scaler=StandardScaler(); total time=   0.0s\n",
      "[CV] END regressor=Ridge(max_iter=10000, random_state=42), regressor__alpha=10.0, regressor__fit_intercept=True, scaler=StandardScaler(); total time=   0.0s\n",
      "[CV] END regressor=Ridge(max_iter=10000, random_state=42), regressor__alpha=10.0, regressor__fit_intercept=True, scaler=StandardScaler(); total time=   0.0s\n",
      "[CV] END regressor=Ridge(max_iter=10000, random_state=42), regressor__alpha=10.0, regressor__fit_intercept=True, scaler=StandardScaler(); total time=   0.0s\n",
      "[CV] END regressor=Ridge(max_iter=10000, random_state=42), regressor__alpha=10.0, regressor__fit_intercept=True, scaler=MinMaxScaler(); total time=   0.0s\n",
      "[CV] END regressor=Ridge(max_iter=10000, random_state=42), regressor__alpha=10.0, regressor__fit_intercept=True, scaler=MinMaxScaler(); total time=   0.0s\n",
      "[CV] END regressor=Ridge(max_iter=10000, random_state=42), regressor__alpha=10.0, regressor__fit_intercept=True, scaler=MinMaxScaler(); total time=   0.0s\n",
      "[CV] END regressor=Ridge(max_iter=10000, random_state=42), regressor__alpha=10.0, regressor__fit_intercept=True, scaler=MinMaxScaler(); total time=   0.0s\n",
      "[CV] END regressor=Ridge(max_iter=10000, random_state=42), regressor__alpha=10.0, regressor__fit_intercept=True, scaler=MinMaxScaler(); total time=   0.0s\n",
      "[CV] END regressor=Ridge(max_iter=10000, random_state=42), regressor__alpha=10.0, regressor__fit_intercept=True, scaler=MinMaxScaler(); total time=   0.0s\n",
      "[CV] END regressor=Ridge(max_iter=10000, random_state=42), regressor__alpha=10.0, regressor__fit_intercept=True, scaler=MinMaxScaler(); total time=   0.0s\n",
      "[CV] END regressor=Ridge(max_iter=10000, random_state=42), regressor__alpha=10.0, regressor__fit_intercept=True, scaler=MinMaxScaler(); total time=   0.0s\n",
      "[CV] END regressor=Ridge(max_iter=10000, random_state=42), regressor__alpha=10.0, regressor__fit_intercept=True, scaler=MinMaxScaler(); total time=   0.0s\n",
      "[CV] END regressor=Ridge(max_iter=10000, random_state=42), regressor__alpha=10.0, regressor__fit_intercept=True, scaler=MinMaxScaler(); total time=   0.0s\n",
      "[CV] END regressor=Ridge(max_iter=10000, random_state=42), regressor__alpha=10.0, regressor__fit_intercept=True, scaler=RobustScaler(); total time=   0.0s\n",
      "[CV] END regressor=Ridge(max_iter=10000, random_state=42), regressor__alpha=10.0, regressor__fit_intercept=True, scaler=RobustScaler(); total time=   0.0s\n",
      "[CV] END regressor=Ridge(max_iter=10000, random_state=42), regressor__alpha=10.0, regressor__fit_intercept=True, scaler=RobustScaler(); total time=   0.0s\n",
      "[CV] END regressor=Ridge(max_iter=10000, random_state=42), regressor__alpha=10.0, regressor__fit_intercept=True, scaler=RobustScaler(); total time=   0.0s\n",
      "[CV] END regressor=Ridge(max_iter=10000, random_state=42), regressor__alpha=10.0, regressor__fit_intercept=True, scaler=RobustScaler(); total time=   0.0s\n",
      "[CV] END regressor=Ridge(max_iter=10000, random_state=42), regressor__alpha=10.0, regressor__fit_intercept=True, scaler=RobustScaler(); total time=   0.0s\n",
      "[CV] END regressor=Ridge(max_iter=10000, random_state=42), regressor__alpha=10.0, regressor__fit_intercept=True, scaler=RobustScaler(); total time=   0.0s\n",
      "[CV] END regressor=Ridge(max_iter=10000, random_state=42), regressor__alpha=10.0, regressor__fit_intercept=True, scaler=RobustScaler(); total time=   0.0s\n",
      "[CV] END regressor=Ridge(max_iter=10000, random_state=42), regressor__alpha=10.0, regressor__fit_intercept=True, scaler=RobustScaler(); total time=   0.0s\n",
      "[CV] END regressor=Ridge(max_iter=10000, random_state=42), regressor__alpha=10.0, regressor__fit_intercept=True, scaler=RobustScaler(); total time=   0.0s\n",
      "[CV] END regressor=Ridge(max_iter=10000, random_state=42), regressor__alpha=10.0, regressor__fit_intercept=True, scaler=None; total time=   0.0s\n",
      "[CV] END regressor=Ridge(max_iter=10000, random_state=42), regressor__alpha=10.0, regressor__fit_intercept=True, scaler=None; total time=   0.0s\n",
      "[CV] END regressor=Ridge(max_iter=10000, random_state=42), regressor__alpha=10.0, regressor__fit_intercept=True, scaler=None; total time=   0.0s\n",
      "[CV] END regressor=Ridge(max_iter=10000, random_state=42), regressor__alpha=10.0, regressor__fit_intercept=True, scaler=None; total time=   0.0s\n",
      "[CV] END regressor=Ridge(max_iter=10000, random_state=42), regressor__alpha=10.0, regressor__fit_intercept=True, scaler=None; total time=   0.0s\n",
      "[CV] END regressor=Ridge(max_iter=10000, random_state=42), regressor__alpha=10.0, regressor__fit_intercept=True, scaler=None; total time=   0.0s\n",
      "[CV] END regressor=Ridge(max_iter=10000, random_state=42), regressor__alpha=10.0, regressor__fit_intercept=True, scaler=None; total time=   0.0s\n",
      "[CV] END regressor=Ridge(max_iter=10000, random_state=42), regressor__alpha=10.0, regressor__fit_intercept=True, scaler=None; total time=   0.0s\n",
      "[CV] END regressor=Ridge(max_iter=10000, random_state=42), regressor__alpha=10.0, regressor__fit_intercept=True, scaler=None; total time=   0.0s\n",
      "[CV] END regressor=Ridge(max_iter=10000, random_state=42), regressor__alpha=10.0, regressor__fit_intercept=True, scaler=None; total time=   0.0s\n",
      "[CV] END regressor=Ridge(max_iter=10000, random_state=42), regressor__alpha=10.0, regressor__fit_intercept=False, scaler=StandardScaler(); total time=   0.0s\n",
      "[CV] END regressor=Ridge(max_iter=10000, random_state=42), regressor__alpha=10.0, regressor__fit_intercept=False, scaler=StandardScaler(); total time=   0.0s\n",
      "[CV] END regressor=Ridge(max_iter=10000, random_state=42), regressor__alpha=10.0, regressor__fit_intercept=False, scaler=StandardScaler(); total time=   0.0s\n",
      "[CV] END regressor=Ridge(max_iter=10000, random_state=42), regressor__alpha=10.0, regressor__fit_intercept=False, scaler=StandardScaler(); total time=   0.0s\n",
      "[CV] END regressor=Ridge(max_iter=10000, random_state=42), regressor__alpha=10.0, regressor__fit_intercept=False, scaler=StandardScaler(); total time=   0.0s\n",
      "[CV] END regressor=Ridge(max_iter=10000, random_state=42), regressor__alpha=10.0, regressor__fit_intercept=False, scaler=StandardScaler(); total time=   0.0s\n",
      "[CV] END regressor=Ridge(max_iter=10000, random_state=42), regressor__alpha=10.0, regressor__fit_intercept=False, scaler=StandardScaler(); total time=   0.0s\n",
      "[CV] END regressor=Ridge(max_iter=10000, random_state=42), regressor__alpha=10.0, regressor__fit_intercept=False, scaler=StandardScaler(); total time=   0.0s\n",
      "[CV] END regressor=Ridge(max_iter=10000, random_state=42), regressor__alpha=10.0, regressor__fit_intercept=False, scaler=StandardScaler(); total time=   0.0s\n",
      "[CV] END regressor=Ridge(max_iter=10000, random_state=42), regressor__alpha=10.0, regressor__fit_intercept=False, scaler=StandardScaler(); total time=   0.0s\n",
      "[CV] END regressor=Ridge(max_iter=10000, random_state=42), regressor__alpha=10.0, regressor__fit_intercept=False, scaler=MinMaxScaler(); total time=   0.0s\n",
      "[CV] END regressor=Ridge(max_iter=10000, random_state=42), regressor__alpha=10.0, regressor__fit_intercept=False, scaler=MinMaxScaler(); total time=   0.0s\n",
      "[CV] END regressor=Ridge(max_iter=10000, random_state=42), regressor__alpha=10.0, regressor__fit_intercept=False, scaler=MinMaxScaler(); total time=   0.0s\n",
      "[CV] END regressor=Ridge(max_iter=10000, random_state=42), regressor__alpha=10.0, regressor__fit_intercept=False, scaler=MinMaxScaler(); total time=   0.0s\n",
      "[CV] END regressor=Ridge(max_iter=10000, random_state=42), regressor__alpha=10.0, regressor__fit_intercept=False, scaler=MinMaxScaler(); total time=   0.0s\n",
      "[CV] END regressor=Ridge(max_iter=10000, random_state=42), regressor__alpha=10.0, regressor__fit_intercept=False, scaler=MinMaxScaler(); total time=   0.0s\n",
      "[CV] END regressor=Ridge(max_iter=10000, random_state=42), regressor__alpha=10.0, regressor__fit_intercept=False, scaler=MinMaxScaler(); total time=   0.0s\n",
      "[CV] END regressor=Ridge(max_iter=10000, random_state=42), regressor__alpha=10.0, regressor__fit_intercept=False, scaler=MinMaxScaler(); total time=   0.0s\n",
      "[CV] END regressor=Ridge(max_iter=10000, random_state=42), regressor__alpha=10.0, regressor__fit_intercept=False, scaler=MinMaxScaler(); total time=   0.0s\n",
      "[CV] END regressor=Ridge(max_iter=10000, random_state=42), regressor__alpha=10.0, regressor__fit_intercept=False, scaler=MinMaxScaler(); total time=   0.0s\n",
      "[CV] END regressor=Ridge(max_iter=10000, random_state=42), regressor__alpha=10.0, regressor__fit_intercept=False, scaler=RobustScaler(); total time=   0.0s\n",
      "[CV] END regressor=Ridge(max_iter=10000, random_state=42), regressor__alpha=10.0, regressor__fit_intercept=False, scaler=RobustScaler(); total time=   0.0s\n",
      "[CV] END regressor=Ridge(max_iter=10000, random_state=42), regressor__alpha=10.0, regressor__fit_intercept=False, scaler=RobustScaler(); total time=   0.0s\n",
      "[CV] END regressor=Ridge(max_iter=10000, random_state=42), regressor__alpha=10.0, regressor__fit_intercept=False, scaler=RobustScaler(); total time=   0.0s\n",
      "[CV] END regressor=Ridge(max_iter=10000, random_state=42), regressor__alpha=10.0, regressor__fit_intercept=False, scaler=RobustScaler(); total time=   0.0s\n",
      "[CV] END regressor=Ridge(max_iter=10000, random_state=42), regressor__alpha=10.0, regressor__fit_intercept=False, scaler=RobustScaler(); total time=   0.0s\n",
      "[CV] END regressor=Ridge(max_iter=10000, random_state=42), regressor__alpha=10.0, regressor__fit_intercept=False, scaler=RobustScaler(); total time=   0.0s\n",
      "[CV] END regressor=Ridge(max_iter=10000, random_state=42), regressor__alpha=10.0, regressor__fit_intercept=False, scaler=RobustScaler(); total time=   0.0s\n",
      "[CV] END regressor=Ridge(max_iter=10000, random_state=42), regressor__alpha=10.0, regressor__fit_intercept=False, scaler=RobustScaler(); total time=   0.0s\n",
      "[CV] END regressor=Ridge(max_iter=10000, random_state=42), regressor__alpha=10.0, regressor__fit_intercept=False, scaler=RobustScaler(); total time=   0.0s\n",
      "[CV] END regressor=Ridge(max_iter=10000, random_state=42), regressor__alpha=10.0, regressor__fit_intercept=False, scaler=None; total time=   0.0s\n",
      "[CV] END regressor=Ridge(max_iter=10000, random_state=42), regressor__alpha=10.0, regressor__fit_intercept=False, scaler=None; total time=   0.0s\n",
      "[CV] END regressor=Ridge(max_iter=10000, random_state=42), regressor__alpha=10.0, regressor__fit_intercept=False, scaler=None; total time=   0.0s\n",
      "[CV] END regressor=Ridge(max_iter=10000, random_state=42), regressor__alpha=10.0, regressor__fit_intercept=False, scaler=None; total time=   0.0s\n",
      "[CV] END regressor=Ridge(max_iter=10000, random_state=42), regressor__alpha=10.0, regressor__fit_intercept=False, scaler=None; total time=   0.0s\n",
      "[CV] END regressor=Ridge(max_iter=10000, random_state=42), regressor__alpha=10.0, regressor__fit_intercept=False, scaler=None; total time=   0.0s\n",
      "[CV] END regressor=Ridge(max_iter=10000, random_state=42), regressor__alpha=10.0, regressor__fit_intercept=False, scaler=None; total time=   0.0s\n",
      "[CV] END regressor=Ridge(max_iter=10000, random_state=42), regressor__alpha=10.0, regressor__fit_intercept=False, scaler=None; total time=   0.0s\n",
      "[CV] END regressor=Ridge(max_iter=10000, random_state=42), regressor__alpha=10.0, regressor__fit_intercept=False, scaler=None; total time=   0.0s\n",
      "[CV] END regressor=Ridge(max_iter=10000, random_state=42), regressor__alpha=10.0, regressor__fit_intercept=False, scaler=None; total time=   0.0s\n",
      "[CV] END regressor=Ridge(max_iter=10000, random_state=42), regressor__alpha=100.0, regressor__fit_intercept=True, scaler=StandardScaler(); total time=   0.0s\n",
      "[CV] END regressor=Ridge(max_iter=10000, random_state=42), regressor__alpha=100.0, regressor__fit_intercept=True, scaler=StandardScaler(); total time=   0.0s\n",
      "[CV] END regressor=Ridge(max_iter=10000, random_state=42), regressor__alpha=100.0, regressor__fit_intercept=True, scaler=StandardScaler(); total time=   0.0s\n",
      "[CV] END regressor=Ridge(max_iter=10000, random_state=42), regressor__alpha=100.0, regressor__fit_intercept=True, scaler=StandardScaler(); total time=   0.0s\n",
      "[CV] END regressor=Ridge(max_iter=10000, random_state=42), regressor__alpha=100.0, regressor__fit_intercept=True, scaler=StandardScaler(); total time=   0.0s\n",
      "[CV] END regressor=Ridge(max_iter=10000, random_state=42), regressor__alpha=100.0, regressor__fit_intercept=True, scaler=StandardScaler(); total time=   0.0s\n",
      "[CV] END regressor=Ridge(max_iter=10000, random_state=42), regressor__alpha=100.0, regressor__fit_intercept=True, scaler=StandardScaler(); total time=   0.0s\n",
      "[CV] END regressor=Ridge(max_iter=10000, random_state=42), regressor__alpha=100.0, regressor__fit_intercept=True, scaler=StandardScaler(); total time=   0.0s\n",
      "[CV] END regressor=Ridge(max_iter=10000, random_state=42), regressor__alpha=100.0, regressor__fit_intercept=True, scaler=StandardScaler(); total time=   0.0s\n",
      "[CV] END regressor=Ridge(max_iter=10000, random_state=42), regressor__alpha=100.0, regressor__fit_intercept=True, scaler=StandardScaler(); total time=   0.0s\n",
      "[CV] END regressor=Ridge(max_iter=10000, random_state=42), regressor__alpha=100.0, regressor__fit_intercept=True, scaler=MinMaxScaler(); total time=   0.0s\n",
      "[CV] END regressor=Ridge(max_iter=10000, random_state=42), regressor__alpha=100.0, regressor__fit_intercept=True, scaler=MinMaxScaler(); total time=   0.0s\n",
      "[CV] END regressor=Ridge(max_iter=10000, random_state=42), regressor__alpha=100.0, regressor__fit_intercept=True, scaler=MinMaxScaler(); total time=   0.0s\n",
      "[CV] END regressor=Ridge(max_iter=10000, random_state=42), regressor__alpha=100.0, regressor__fit_intercept=True, scaler=MinMaxScaler(); total time=   0.0s\n",
      "[CV] END regressor=Ridge(max_iter=10000, random_state=42), regressor__alpha=100.0, regressor__fit_intercept=True, scaler=MinMaxScaler(); total time=   0.0s\n",
      "[CV] END regressor=Ridge(max_iter=10000, random_state=42), regressor__alpha=100.0, regressor__fit_intercept=True, scaler=MinMaxScaler(); total time=   0.0s\n",
      "[CV] END regressor=Ridge(max_iter=10000, random_state=42), regressor__alpha=100.0, regressor__fit_intercept=True, scaler=MinMaxScaler(); total time=   0.0s\n",
      "[CV] END regressor=Ridge(max_iter=10000, random_state=42), regressor__alpha=100.0, regressor__fit_intercept=True, scaler=MinMaxScaler(); total time=   0.0s\n",
      "[CV] END regressor=Ridge(max_iter=10000, random_state=42), regressor__alpha=100.0, regressor__fit_intercept=True, scaler=MinMaxScaler(); total time=   0.0s\n",
      "[CV] END regressor=Ridge(max_iter=10000, random_state=42), regressor__alpha=100.0, regressor__fit_intercept=True, scaler=MinMaxScaler(); total time=   0.0s\n",
      "[CV] END regressor=Ridge(max_iter=10000, random_state=42), regressor__alpha=100.0, regressor__fit_intercept=True, scaler=RobustScaler(); total time=   0.0s\n",
      "[CV] END regressor=Ridge(max_iter=10000, random_state=42), regressor__alpha=100.0, regressor__fit_intercept=True, scaler=RobustScaler(); total time=   0.0s\n",
      "[CV] END regressor=Ridge(max_iter=10000, random_state=42), regressor__alpha=100.0, regressor__fit_intercept=True, scaler=RobustScaler(); total time=   0.0s\n",
      "[CV] END regressor=Ridge(max_iter=10000, random_state=42), regressor__alpha=100.0, regressor__fit_intercept=True, scaler=RobustScaler(); total time=   0.0s\n",
      "[CV] END regressor=Ridge(max_iter=10000, random_state=42), regressor__alpha=100.0, regressor__fit_intercept=True, scaler=RobustScaler(); total time=   0.0s\n",
      "[CV] END regressor=Ridge(max_iter=10000, random_state=42), regressor__alpha=100.0, regressor__fit_intercept=True, scaler=RobustScaler(); total time=   0.0s\n",
      "[CV] END regressor=Ridge(max_iter=10000, random_state=42), regressor__alpha=100.0, regressor__fit_intercept=True, scaler=RobustScaler(); total time=   0.0s\n",
      "[CV] END regressor=Ridge(max_iter=10000, random_state=42), regressor__alpha=100.0, regressor__fit_intercept=True, scaler=RobustScaler(); total time=   0.0s\n",
      "[CV] END regressor=Ridge(max_iter=10000, random_state=42), regressor__alpha=100.0, regressor__fit_intercept=True, scaler=RobustScaler(); total time=   0.0s\n",
      "[CV] END regressor=Ridge(max_iter=10000, random_state=42), regressor__alpha=100.0, regressor__fit_intercept=True, scaler=RobustScaler(); total time=   0.0s\n",
      "[CV] END regressor=Ridge(max_iter=10000, random_state=42), regressor__alpha=100.0, regressor__fit_intercept=True, scaler=None; total time=   0.0s\n",
      "[CV] END regressor=Ridge(max_iter=10000, random_state=42), regressor__alpha=100.0, regressor__fit_intercept=True, scaler=None; total time=   0.0s\n",
      "[CV] END regressor=Ridge(max_iter=10000, random_state=42), regressor__alpha=100.0, regressor__fit_intercept=True, scaler=None; total time=   0.0s\n",
      "[CV] END regressor=Ridge(max_iter=10000, random_state=42), regressor__alpha=100.0, regressor__fit_intercept=True, scaler=None; total time=   0.0s\n",
      "[CV] END regressor=Ridge(max_iter=10000, random_state=42), regressor__alpha=100.0, regressor__fit_intercept=True, scaler=None; total time=   0.0s\n",
      "[CV] END regressor=Ridge(max_iter=10000, random_state=42), regressor__alpha=100.0, regressor__fit_intercept=True, scaler=None; total time=   0.0s\n",
      "[CV] END regressor=Ridge(max_iter=10000, random_state=42), regressor__alpha=100.0, regressor__fit_intercept=True, scaler=None; total time=   0.0s\n",
      "[CV] END regressor=Ridge(max_iter=10000, random_state=42), regressor__alpha=100.0, regressor__fit_intercept=True, scaler=None; total time=   0.0s\n",
      "[CV] END regressor=Ridge(max_iter=10000, random_state=42), regressor__alpha=100.0, regressor__fit_intercept=True, scaler=None; total time=   0.0s\n",
      "[CV] END regressor=Ridge(max_iter=10000, random_state=42), regressor__alpha=100.0, regressor__fit_intercept=True, scaler=None; total time=   0.0s\n",
      "[CV] END regressor=Ridge(max_iter=10000, random_state=42), regressor__alpha=100.0, regressor__fit_intercept=False, scaler=StandardScaler(); total time=   0.0s\n",
      "[CV] END regressor=Ridge(max_iter=10000, random_state=42), regressor__alpha=100.0, regressor__fit_intercept=False, scaler=StandardScaler(); total time=   0.0s\n",
      "[CV] END regressor=Ridge(max_iter=10000, random_state=42), regressor__alpha=100.0, regressor__fit_intercept=False, scaler=StandardScaler(); total time=   0.0s\n",
      "[CV] END regressor=Ridge(max_iter=10000, random_state=42), regressor__alpha=100.0, regressor__fit_intercept=False, scaler=StandardScaler(); total time=   0.0s\n",
      "[CV] END regressor=Ridge(max_iter=10000, random_state=42), regressor__alpha=100.0, regressor__fit_intercept=False, scaler=StandardScaler(); total time=   0.0s\n",
      "[CV] END regressor=Ridge(max_iter=10000, random_state=42), regressor__alpha=100.0, regressor__fit_intercept=False, scaler=StandardScaler(); total time=   0.0s\n",
      "[CV] END regressor=Ridge(max_iter=10000, random_state=42), regressor__alpha=100.0, regressor__fit_intercept=False, scaler=StandardScaler(); total time=   0.0s\n",
      "[CV] END regressor=Ridge(max_iter=10000, random_state=42), regressor__alpha=100.0, regressor__fit_intercept=False, scaler=StandardScaler(); total time=   0.0s\n",
      "[CV] END regressor=Ridge(max_iter=10000, random_state=42), regressor__alpha=100.0, regressor__fit_intercept=False, scaler=StandardScaler(); total time=   0.0s\n",
      "[CV] END regressor=Ridge(max_iter=10000, random_state=42), regressor__alpha=100.0, regressor__fit_intercept=False, scaler=StandardScaler(); total time=   0.0s\n",
      "[CV] END regressor=Ridge(max_iter=10000, random_state=42), regressor__alpha=100.0, regressor__fit_intercept=False, scaler=MinMaxScaler(); total time=   0.0s\n",
      "[CV] END regressor=Ridge(max_iter=10000, random_state=42), regressor__alpha=100.0, regressor__fit_intercept=False, scaler=MinMaxScaler(); total time=   0.0s\n",
      "[CV] END regressor=Ridge(max_iter=10000, random_state=42), regressor__alpha=100.0, regressor__fit_intercept=False, scaler=MinMaxScaler(); total time=   0.0s\n",
      "[CV] END regressor=Ridge(max_iter=10000, random_state=42), regressor__alpha=100.0, regressor__fit_intercept=False, scaler=MinMaxScaler(); total time=   0.0s\n",
      "[CV] END regressor=Ridge(max_iter=10000, random_state=42), regressor__alpha=100.0, regressor__fit_intercept=False, scaler=MinMaxScaler(); total time=   0.0s\n",
      "[CV] END regressor=Ridge(max_iter=10000, random_state=42), regressor__alpha=100.0, regressor__fit_intercept=False, scaler=MinMaxScaler(); total time=   0.0s\n",
      "[CV] END regressor=Ridge(max_iter=10000, random_state=42), regressor__alpha=100.0, regressor__fit_intercept=False, scaler=MinMaxScaler(); total time=   0.0s\n",
      "[CV] END regressor=Ridge(max_iter=10000, random_state=42), regressor__alpha=100.0, regressor__fit_intercept=False, scaler=MinMaxScaler(); total time=   0.0s\n",
      "[CV] END regressor=Ridge(max_iter=10000, random_state=42), regressor__alpha=100.0, regressor__fit_intercept=False, scaler=MinMaxScaler(); total time=   0.0s\n",
      "[CV] END regressor=Ridge(max_iter=10000, random_state=42), regressor__alpha=100.0, regressor__fit_intercept=False, scaler=MinMaxScaler(); total time=   0.0s\n",
      "[CV] END regressor=Ridge(max_iter=10000, random_state=42), regressor__alpha=100.0, regressor__fit_intercept=False, scaler=RobustScaler(); total time=   0.0s\n",
      "[CV] END regressor=Ridge(max_iter=10000, random_state=42), regressor__alpha=100.0, regressor__fit_intercept=False, scaler=RobustScaler(); total time=   0.0s\n",
      "[CV] END regressor=Ridge(max_iter=10000, random_state=42), regressor__alpha=100.0, regressor__fit_intercept=False, scaler=RobustScaler(); total time=   0.0s\n",
      "[CV] END regressor=Ridge(max_iter=10000, random_state=42), regressor__alpha=100.0, regressor__fit_intercept=False, scaler=RobustScaler(); total time=   0.0s\n",
      "[CV] END regressor=Ridge(max_iter=10000, random_state=42), regressor__alpha=100.0, regressor__fit_intercept=False, scaler=RobustScaler(); total time=   0.0s\n",
      "[CV] END regressor=Ridge(max_iter=10000, random_state=42), regressor__alpha=100.0, regressor__fit_intercept=False, scaler=RobustScaler(); total time=   0.0s\n",
      "[CV] END regressor=Ridge(max_iter=10000, random_state=42), regressor__alpha=100.0, regressor__fit_intercept=False, scaler=RobustScaler(); total time=   0.0s\n",
      "[CV] END regressor=Ridge(max_iter=10000, random_state=42), regressor__alpha=100.0, regressor__fit_intercept=False, scaler=RobustScaler(); total time=   0.0s\n",
      "[CV] END regressor=Ridge(max_iter=10000, random_state=42), regressor__alpha=100.0, regressor__fit_intercept=False, scaler=RobustScaler(); total time=   0.0s\n",
      "[CV] END regressor=Ridge(max_iter=10000, random_state=42), regressor__alpha=100.0, regressor__fit_intercept=False, scaler=RobustScaler(); total time=   0.0s\n",
      "[CV] END regressor=Ridge(max_iter=10000, random_state=42), regressor__alpha=100.0, regressor__fit_intercept=False, scaler=None; total time=   0.0s\n",
      "[CV] END regressor=Ridge(max_iter=10000, random_state=42), regressor__alpha=100.0, regressor__fit_intercept=False, scaler=None; total time=   0.0s\n",
      "[CV] END regressor=Ridge(max_iter=10000, random_state=42), regressor__alpha=100.0, regressor__fit_intercept=False, scaler=None; total time=   0.0s\n",
      "[CV] END regressor=Ridge(max_iter=10000, random_state=42), regressor__alpha=100.0, regressor__fit_intercept=False, scaler=None; total time=   0.0s\n",
      "[CV] END regressor=Ridge(max_iter=10000, random_state=42), regressor__alpha=100.0, regressor__fit_intercept=False, scaler=None; total time=   0.0s\n",
      "[CV] END regressor=Ridge(max_iter=10000, random_state=42), regressor__alpha=100.0, regressor__fit_intercept=False, scaler=None; total time=   0.0s\n",
      "[CV] END regressor=Ridge(max_iter=10000, random_state=42), regressor__alpha=100.0, regressor__fit_intercept=False, scaler=None; total time=   0.0s\n",
      "[CV] END regressor=Ridge(max_iter=10000, random_state=42), regressor__alpha=100.0, regressor__fit_intercept=False, scaler=None; total time=   0.0s\n",
      "[CV] END regressor=Ridge(max_iter=10000, random_state=42), regressor__alpha=100.0, regressor__fit_intercept=False, scaler=None; total time=   0.0s\n",
      "[CV] END regressor=Ridge(max_iter=10000, random_state=42), regressor__alpha=100.0, regressor__fit_intercept=False, scaler=None; total time=   0.0s\n",
      "[CV] END regressor=Ridge(max_iter=10000, random_state=42), regressor__alpha=1000.0, regressor__fit_intercept=True, scaler=StandardScaler(); total time=   0.0s\n",
      "[CV] END regressor=Ridge(max_iter=10000, random_state=42), regressor__alpha=1000.0, regressor__fit_intercept=True, scaler=StandardScaler(); total time=   0.0s\n",
      "[CV] END regressor=Ridge(max_iter=10000, random_state=42), regressor__alpha=1000.0, regressor__fit_intercept=True, scaler=StandardScaler(); total time=   0.0s\n",
      "[CV] END regressor=Ridge(max_iter=10000, random_state=42), regressor__alpha=1000.0, regressor__fit_intercept=True, scaler=StandardScaler(); total time=   0.0s\n",
      "[CV] END regressor=Ridge(max_iter=10000, random_state=42), regressor__alpha=1000.0, regressor__fit_intercept=True, scaler=StandardScaler(); total time=   0.0s\n",
      "[CV] END regressor=Ridge(max_iter=10000, random_state=42), regressor__alpha=1000.0, regressor__fit_intercept=True, scaler=StandardScaler(); total time=   0.0s\n",
      "[CV] END regressor=Ridge(max_iter=10000, random_state=42), regressor__alpha=1000.0, regressor__fit_intercept=True, scaler=StandardScaler(); total time=   0.0s\n",
      "[CV] END regressor=Ridge(max_iter=10000, random_state=42), regressor__alpha=1000.0, regressor__fit_intercept=True, scaler=StandardScaler(); total time=   0.0s\n",
      "[CV] END regressor=Ridge(max_iter=10000, random_state=42), regressor__alpha=1000.0, regressor__fit_intercept=True, scaler=StandardScaler(); total time=   0.0s\n",
      "[CV] END regressor=Ridge(max_iter=10000, random_state=42), regressor__alpha=1000.0, regressor__fit_intercept=True, scaler=StandardScaler(); total time=   0.0s\n",
      "[CV] END regressor=Ridge(max_iter=10000, random_state=42), regressor__alpha=1000.0, regressor__fit_intercept=True, scaler=MinMaxScaler(); total time=   0.0s\n",
      "[CV] END regressor=Ridge(max_iter=10000, random_state=42), regressor__alpha=1000.0, regressor__fit_intercept=True, scaler=MinMaxScaler(); total time=   0.0s\n",
      "[CV] END regressor=Ridge(max_iter=10000, random_state=42), regressor__alpha=1000.0, regressor__fit_intercept=True, scaler=MinMaxScaler(); total time=   0.0s\n",
      "[CV] END regressor=Ridge(max_iter=10000, random_state=42), regressor__alpha=1000.0, regressor__fit_intercept=True, scaler=MinMaxScaler(); total time=   0.0s\n",
      "[CV] END regressor=Ridge(max_iter=10000, random_state=42), regressor__alpha=1000.0, regressor__fit_intercept=True, scaler=MinMaxScaler(); total time=   0.0s\n",
      "[CV] END regressor=Ridge(max_iter=10000, random_state=42), regressor__alpha=1000.0, regressor__fit_intercept=True, scaler=MinMaxScaler(); total time=   0.0s\n",
      "[CV] END regressor=Ridge(max_iter=10000, random_state=42), regressor__alpha=1000.0, regressor__fit_intercept=True, scaler=MinMaxScaler(); total time=   0.0s\n",
      "[CV] END regressor=Ridge(max_iter=10000, random_state=42), regressor__alpha=1000.0, regressor__fit_intercept=True, scaler=MinMaxScaler(); total time=   0.0s\n",
      "[CV] END regressor=Ridge(max_iter=10000, random_state=42), regressor__alpha=1000.0, regressor__fit_intercept=True, scaler=MinMaxScaler(); total time=   0.0s\n",
      "[CV] END regressor=Ridge(max_iter=10000, random_state=42), regressor__alpha=1000.0, regressor__fit_intercept=True, scaler=MinMaxScaler(); total time=   0.0s\n",
      "[CV] END regressor=Ridge(max_iter=10000, random_state=42), regressor__alpha=1000.0, regressor__fit_intercept=True, scaler=RobustScaler(); total time=   0.0s\n",
      "[CV] END regressor=Ridge(max_iter=10000, random_state=42), regressor__alpha=1000.0, regressor__fit_intercept=True, scaler=RobustScaler(); total time=   0.0s\n",
      "[CV] END regressor=Ridge(max_iter=10000, random_state=42), regressor__alpha=1000.0, regressor__fit_intercept=True, scaler=RobustScaler(); total time=   0.0s\n",
      "[CV] END regressor=Ridge(max_iter=10000, random_state=42), regressor__alpha=1000.0, regressor__fit_intercept=True, scaler=RobustScaler(); total time=   0.0s\n",
      "[CV] END regressor=Ridge(max_iter=10000, random_state=42), regressor__alpha=1000.0, regressor__fit_intercept=True, scaler=RobustScaler(); total time=   0.0s\n",
      "[CV] END regressor=Ridge(max_iter=10000, random_state=42), regressor__alpha=1000.0, regressor__fit_intercept=True, scaler=RobustScaler(); total time=   0.0s\n",
      "[CV] END regressor=Ridge(max_iter=10000, random_state=42), regressor__alpha=1000.0, regressor__fit_intercept=True, scaler=RobustScaler(); total time=   0.0s\n",
      "[CV] END regressor=Ridge(max_iter=10000, random_state=42), regressor__alpha=1000.0, regressor__fit_intercept=True, scaler=RobustScaler(); total time=   0.0s\n",
      "[CV] END regressor=Ridge(max_iter=10000, random_state=42), regressor__alpha=1000.0, regressor__fit_intercept=True, scaler=RobustScaler(); total time=   0.0s\n",
      "[CV] END regressor=Ridge(max_iter=10000, random_state=42), regressor__alpha=1000.0, regressor__fit_intercept=True, scaler=RobustScaler(); total time=   0.0s\n",
      "[CV] END regressor=Ridge(max_iter=10000, random_state=42), regressor__alpha=1000.0, regressor__fit_intercept=True, scaler=None; total time=   0.0s\n",
      "[CV] END regressor=Ridge(max_iter=10000, random_state=42), regressor__alpha=1000.0, regressor__fit_intercept=True, scaler=None; total time=   0.0s\n",
      "[CV] END regressor=Ridge(max_iter=10000, random_state=42), regressor__alpha=1000.0, regressor__fit_intercept=True, scaler=None; total time=   0.0s\n",
      "[CV] END regressor=Ridge(max_iter=10000, random_state=42), regressor__alpha=1000.0, regressor__fit_intercept=True, scaler=None; total time=   0.0s\n",
      "[CV] END regressor=Ridge(max_iter=10000, random_state=42), regressor__alpha=1000.0, regressor__fit_intercept=True, scaler=None; total time=   0.0s\n",
      "[CV] END regressor=Ridge(max_iter=10000, random_state=42), regressor__alpha=1000.0, regressor__fit_intercept=True, scaler=None; total time=   0.0s\n",
      "[CV] END regressor=Ridge(max_iter=10000, random_state=42), regressor__alpha=1000.0, regressor__fit_intercept=True, scaler=None; total time=   0.0s\n",
      "[CV] END regressor=Ridge(max_iter=10000, random_state=42), regressor__alpha=1000.0, regressor__fit_intercept=True, scaler=None; total time=   0.0s\n",
      "[CV] END regressor=Ridge(max_iter=10000, random_state=42), regressor__alpha=1000.0, regressor__fit_intercept=True, scaler=None; total time=   0.0s\n",
      "[CV] END regressor=Ridge(max_iter=10000, random_state=42), regressor__alpha=1000.0, regressor__fit_intercept=True, scaler=None; total time=   0.0s\n",
      "[CV] END regressor=Ridge(max_iter=10000, random_state=42), regressor__alpha=1000.0, regressor__fit_intercept=False, scaler=StandardScaler(); total time=   0.0s\n",
      "[CV] END regressor=Ridge(max_iter=10000, random_state=42), regressor__alpha=1000.0, regressor__fit_intercept=False, scaler=StandardScaler(); total time=   0.0s\n",
      "[CV] END regressor=Ridge(max_iter=10000, random_state=42), regressor__alpha=1000.0, regressor__fit_intercept=False, scaler=StandardScaler(); total time=   0.0s\n",
      "[CV] END regressor=Ridge(max_iter=10000, random_state=42), regressor__alpha=1000.0, regressor__fit_intercept=False, scaler=StandardScaler(); total time=   0.0s\n",
      "[CV] END regressor=Ridge(max_iter=10000, random_state=42), regressor__alpha=1000.0, regressor__fit_intercept=False, scaler=StandardScaler(); total time=   0.0s\n",
      "[CV] END regressor=Ridge(max_iter=10000, random_state=42), regressor__alpha=1000.0, regressor__fit_intercept=False, scaler=StandardScaler(); total time=   0.0s\n",
      "[CV] END regressor=Ridge(max_iter=10000, random_state=42), regressor__alpha=1000.0, regressor__fit_intercept=False, scaler=StandardScaler(); total time=   0.0s\n",
      "[CV] END regressor=Ridge(max_iter=10000, random_state=42), regressor__alpha=1000.0, regressor__fit_intercept=False, scaler=StandardScaler(); total time=   0.0s\n",
      "[CV] END regressor=Ridge(max_iter=10000, random_state=42), regressor__alpha=1000.0, regressor__fit_intercept=False, scaler=StandardScaler(); total time=   0.0s\n",
      "[CV] END regressor=Ridge(max_iter=10000, random_state=42), regressor__alpha=1000.0, regressor__fit_intercept=False, scaler=StandardScaler(); total time=   0.0s\n",
      "[CV] END regressor=Ridge(max_iter=10000, random_state=42), regressor__alpha=1000.0, regressor__fit_intercept=False, scaler=MinMaxScaler(); total time=   0.0s\n",
      "[CV] END regressor=Ridge(max_iter=10000, random_state=42), regressor__alpha=1000.0, regressor__fit_intercept=False, scaler=MinMaxScaler(); total time=   0.0s\n",
      "[CV] END regressor=Ridge(max_iter=10000, random_state=42), regressor__alpha=1000.0, regressor__fit_intercept=False, scaler=MinMaxScaler(); total time=   0.0s\n",
      "[CV] END regressor=Ridge(max_iter=10000, random_state=42), regressor__alpha=1000.0, regressor__fit_intercept=False, scaler=MinMaxScaler(); total time=   0.0s\n",
      "[CV] END regressor=Ridge(max_iter=10000, random_state=42), regressor__alpha=1000.0, regressor__fit_intercept=False, scaler=MinMaxScaler(); total time=   0.0s\n",
      "[CV] END regressor=Ridge(max_iter=10000, random_state=42), regressor__alpha=1000.0, regressor__fit_intercept=False, scaler=MinMaxScaler(); total time=   0.0s\n",
      "[CV] END regressor=Ridge(max_iter=10000, random_state=42), regressor__alpha=1000.0, regressor__fit_intercept=False, scaler=MinMaxScaler(); total time=   0.0s\n",
      "[CV] END regressor=Ridge(max_iter=10000, random_state=42), regressor__alpha=1000.0, regressor__fit_intercept=False, scaler=MinMaxScaler(); total time=   0.0s\n",
      "[CV] END regressor=Ridge(max_iter=10000, random_state=42), regressor__alpha=1000.0, regressor__fit_intercept=False, scaler=MinMaxScaler(); total time=   0.0s\n",
      "[CV] END regressor=Ridge(max_iter=10000, random_state=42), regressor__alpha=1000.0, regressor__fit_intercept=False, scaler=MinMaxScaler(); total time=   0.0s\n",
      "[CV] END regressor=Ridge(max_iter=10000, random_state=42), regressor__alpha=1000.0, regressor__fit_intercept=False, scaler=RobustScaler(); total time=   0.0s\n",
      "[CV] END regressor=Ridge(max_iter=10000, random_state=42), regressor__alpha=1000.0, regressor__fit_intercept=False, scaler=RobustScaler(); total time=   0.0s\n",
      "[CV] END regressor=Ridge(max_iter=10000, random_state=42), regressor__alpha=1000.0, regressor__fit_intercept=False, scaler=RobustScaler(); total time=   0.0s\n",
      "[CV] END regressor=Ridge(max_iter=10000, random_state=42), regressor__alpha=1000.0, regressor__fit_intercept=False, scaler=RobustScaler(); total time=   0.0s\n",
      "[CV] END regressor=Ridge(max_iter=10000, random_state=42), regressor__alpha=1000.0, regressor__fit_intercept=False, scaler=RobustScaler(); total time=   0.0s\n",
      "[CV] END regressor=Ridge(max_iter=10000, random_state=42), regressor__alpha=1000.0, regressor__fit_intercept=False, scaler=RobustScaler(); total time=   0.0s\n",
      "[CV] END regressor=Ridge(max_iter=10000, random_state=42), regressor__alpha=1000.0, regressor__fit_intercept=False, scaler=RobustScaler(); total time=   0.0s\n",
      "[CV] END regressor=Ridge(max_iter=10000, random_state=42), regressor__alpha=1000.0, regressor__fit_intercept=False, scaler=RobustScaler(); total time=   0.0s\n",
      "[CV] END regressor=Ridge(max_iter=10000, random_state=42), regressor__alpha=1000.0, regressor__fit_intercept=False, scaler=RobustScaler(); total time=   0.0s\n",
      "[CV] END regressor=Ridge(max_iter=10000, random_state=42), regressor__alpha=1000.0, regressor__fit_intercept=False, scaler=RobustScaler(); total time=   0.0s\n",
      "[CV] END regressor=Ridge(max_iter=10000, random_state=42), regressor__alpha=1000.0, regressor__fit_intercept=False, scaler=None; total time=   0.0s\n",
      "[CV] END regressor=Ridge(max_iter=10000, random_state=42), regressor__alpha=1000.0, regressor__fit_intercept=False, scaler=None; total time=   0.0s\n",
      "[CV] END regressor=Ridge(max_iter=10000, random_state=42), regressor__alpha=1000.0, regressor__fit_intercept=False, scaler=None; total time=   0.0s\n",
      "[CV] END regressor=Ridge(max_iter=10000, random_state=42), regressor__alpha=1000.0, regressor__fit_intercept=False, scaler=None; total time=   0.0s\n",
      "[CV] END regressor=Ridge(max_iter=10000, random_state=42), regressor__alpha=1000.0, regressor__fit_intercept=False, scaler=None; total time=   0.0s\n",
      "[CV] END regressor=Ridge(max_iter=10000, random_state=42), regressor__alpha=1000.0, regressor__fit_intercept=False, scaler=None; total time=   0.0s\n",
      "[CV] END regressor=Ridge(max_iter=10000, random_state=42), regressor__alpha=1000.0, regressor__fit_intercept=False, scaler=None; total time=   0.0s\n",
      "[CV] END regressor=Ridge(max_iter=10000, random_state=42), regressor__alpha=1000.0, regressor__fit_intercept=False, scaler=None; total time=   0.0s\n",
      "[CV] END regressor=Ridge(max_iter=10000, random_state=42), regressor__alpha=1000.0, regressor__fit_intercept=False, scaler=None; total time=   0.0s\n",
      "[CV] END regressor=Ridge(max_iter=10000, random_state=42), regressor__alpha=1000.0, regressor__fit_intercept=False, scaler=None; total time=   0.0s\n",
      "[CV] END regressor=Lasso(max_iter=10000, random_state=42), regressor__alpha=100.0, regressor__fit_intercept=True, scaler=StandardScaler(); total time=   0.1s\n",
      "[CV] END regressor=Lasso(max_iter=10000, random_state=42), regressor__alpha=100.0, regressor__fit_intercept=True, scaler=StandardScaler(); total time=   0.0s\n",
      "[CV] END regressor=Lasso(max_iter=10000, random_state=42), regressor__alpha=100.0, regressor__fit_intercept=True, scaler=StandardScaler(); total time=   0.0s\n",
      "[CV] END regressor=Lasso(max_iter=10000, random_state=42), regressor__alpha=100.0, regressor__fit_intercept=True, scaler=StandardScaler(); total time=   0.0s\n",
      "[CV] END regressor=Lasso(max_iter=10000, random_state=42), regressor__alpha=100.0, regressor__fit_intercept=True, scaler=StandardScaler(); total time=   0.0s\n",
      "[CV] END regressor=Lasso(max_iter=10000, random_state=42), regressor__alpha=100.0, regressor__fit_intercept=True, scaler=StandardScaler(); total time=   0.1s\n",
      "[CV] END regressor=Lasso(max_iter=10000, random_state=42), regressor__alpha=100.0, regressor__fit_intercept=True, scaler=StandardScaler(); total time=   0.0s\n",
      "[CV] END regressor=Lasso(max_iter=10000, random_state=42), regressor__alpha=100.0, regressor__fit_intercept=True, scaler=StandardScaler(); total time=   0.0s\n",
      "[CV] END regressor=Lasso(max_iter=10000, random_state=42), regressor__alpha=100.0, regressor__fit_intercept=True, scaler=StandardScaler(); total time=   0.0s\n",
      "[CV] END regressor=Lasso(max_iter=10000, random_state=42), regressor__alpha=100.0, regressor__fit_intercept=True, scaler=StandardScaler(); total time=   0.0s\n",
      "[CV] END regressor=Lasso(max_iter=10000, random_state=42), regressor__alpha=100.0, regressor__fit_intercept=True, scaler=MinMaxScaler(); total time=   0.0s\n",
      "[CV] END regressor=Lasso(max_iter=10000, random_state=42), regressor__alpha=100.0, regressor__fit_intercept=True, scaler=MinMaxScaler(); total time=   0.0s\n",
      "[CV] END regressor=Lasso(max_iter=10000, random_state=42), regressor__alpha=100.0, regressor__fit_intercept=True, scaler=MinMaxScaler(); total time=   0.0s\n",
      "[CV] END regressor=Lasso(max_iter=10000, random_state=42), regressor__alpha=100.0, regressor__fit_intercept=True, scaler=MinMaxScaler(); total time=   0.0s\n",
      "[CV] END regressor=Lasso(max_iter=10000, random_state=42), regressor__alpha=100.0, regressor__fit_intercept=True, scaler=MinMaxScaler(); total time=   0.0s\n",
      "[CV] END regressor=Lasso(max_iter=10000, random_state=42), regressor__alpha=100.0, regressor__fit_intercept=True, scaler=MinMaxScaler(); total time=   0.0s\n",
      "[CV] END regressor=Lasso(max_iter=10000, random_state=42), regressor__alpha=100.0, regressor__fit_intercept=True, scaler=MinMaxScaler(); total time=   0.0s\n",
      "[CV] END regressor=Lasso(max_iter=10000, random_state=42), regressor__alpha=100.0, regressor__fit_intercept=True, scaler=MinMaxScaler(); total time=   0.0s\n",
      "[CV] END regressor=Lasso(max_iter=10000, random_state=42), regressor__alpha=100.0, regressor__fit_intercept=True, scaler=MinMaxScaler(); total time=   0.0s\n",
      "[CV] END regressor=Lasso(max_iter=10000, random_state=42), regressor__alpha=100.0, regressor__fit_intercept=True, scaler=MinMaxScaler(); total time=   0.0s\n",
      "[CV] END regressor=Lasso(max_iter=10000, random_state=42), regressor__alpha=100.0, regressor__fit_intercept=True, scaler=RobustScaler(); total time=   0.0s\n",
      "[CV] END regressor=Lasso(max_iter=10000, random_state=42), regressor__alpha=100.0, regressor__fit_intercept=True, scaler=RobustScaler(); total time=   0.0s\n",
      "[CV] END regressor=Lasso(max_iter=10000, random_state=42), regressor__alpha=100.0, regressor__fit_intercept=True, scaler=RobustScaler(); total time=   0.1s\n",
      "[CV] END regressor=Lasso(max_iter=10000, random_state=42), regressor__alpha=100.0, regressor__fit_intercept=True, scaler=RobustScaler(); total time=   0.0s\n",
      "[CV] END regressor=Lasso(max_iter=10000, random_state=42), regressor__alpha=100.0, regressor__fit_intercept=True, scaler=RobustScaler(); total time=   0.0s\n",
      "[CV] END regressor=Lasso(max_iter=10000, random_state=42), regressor__alpha=100.0, regressor__fit_intercept=True, scaler=RobustScaler(); total time=   0.0s\n",
      "[CV] END regressor=Lasso(max_iter=10000, random_state=42), regressor__alpha=100.0, regressor__fit_intercept=True, scaler=RobustScaler(); total time=   0.1s\n",
      "[CV] END regressor=Lasso(max_iter=10000, random_state=42), regressor__alpha=100.0, regressor__fit_intercept=True, scaler=RobustScaler(); total time=   0.0s\n",
      "[CV] END regressor=Lasso(max_iter=10000, random_state=42), regressor__alpha=100.0, regressor__fit_intercept=True, scaler=RobustScaler(); total time=   0.0s\n",
      "[CV] END regressor=Lasso(max_iter=10000, random_state=42), regressor__alpha=100.0, regressor__fit_intercept=True, scaler=RobustScaler(); total time=   0.1s\n",
      "[CV] END regressor=Lasso(max_iter=10000, random_state=42), regressor__alpha=100.0, regressor__fit_intercept=True, scaler=None; total time=   0.0s\n",
      "[CV] END regressor=Lasso(max_iter=10000, random_state=42), regressor__alpha=100.0, regressor__fit_intercept=True, scaler=None; total time=   0.0s\n",
      "[CV] END regressor=Lasso(max_iter=10000, random_state=42), regressor__alpha=100.0, regressor__fit_intercept=True, scaler=None; total time=   0.0s\n",
      "[CV] END regressor=Lasso(max_iter=10000, random_state=42), regressor__alpha=100.0, regressor__fit_intercept=True, scaler=None; total time=   0.0s\n",
      "[CV] END regressor=Lasso(max_iter=10000, random_state=42), regressor__alpha=100.0, regressor__fit_intercept=True, scaler=None; total time=   0.0s\n",
      "[CV] END regressor=Lasso(max_iter=10000, random_state=42), regressor__alpha=100.0, regressor__fit_intercept=True, scaler=None; total time=   0.0s\n",
      "[CV] END regressor=Lasso(max_iter=10000, random_state=42), regressor__alpha=100.0, regressor__fit_intercept=True, scaler=None; total time=   0.0s\n",
      "[CV] END regressor=Lasso(max_iter=10000, random_state=42), regressor__alpha=100.0, regressor__fit_intercept=True, scaler=None; total time=   0.0s\n",
      "[CV] END regressor=Lasso(max_iter=10000, random_state=42), regressor__alpha=100.0, regressor__fit_intercept=True, scaler=None; total time=   0.0s\n",
      "[CV] END regressor=Lasso(max_iter=10000, random_state=42), regressor__alpha=100.0, regressor__fit_intercept=True, scaler=None; total time=   0.0s\n",
      "[CV] END regressor=Lasso(max_iter=10000, random_state=42), regressor__alpha=100.0, regressor__fit_intercept=False, scaler=StandardScaler(); total time=   0.0s\n",
      "[CV] END regressor=Lasso(max_iter=10000, random_state=42), regressor__alpha=100.0, regressor__fit_intercept=False, scaler=StandardScaler(); total time=   0.0s\n",
      "[CV] END regressor=Lasso(max_iter=10000, random_state=42), regressor__alpha=100.0, regressor__fit_intercept=False, scaler=StandardScaler(); total time=   0.0s\n",
      "[CV] END regressor=Lasso(max_iter=10000, random_state=42), regressor__alpha=100.0, regressor__fit_intercept=False, scaler=StandardScaler(); total time=   0.0s\n",
      "[CV] END regressor=Lasso(max_iter=10000, random_state=42), regressor__alpha=100.0, regressor__fit_intercept=False, scaler=StandardScaler(); total time=   0.0s\n",
      "[CV] END regressor=Lasso(max_iter=10000, random_state=42), regressor__alpha=100.0, regressor__fit_intercept=False, scaler=StandardScaler(); total time=   0.1s\n",
      "[CV] END regressor=Lasso(max_iter=10000, random_state=42), regressor__alpha=100.0, regressor__fit_intercept=False, scaler=StandardScaler(); total time=   0.0s\n",
      "[CV] END regressor=Lasso(max_iter=10000, random_state=42), regressor__alpha=100.0, regressor__fit_intercept=False, scaler=StandardScaler(); total time=   0.0s\n",
      "[CV] END regressor=Lasso(max_iter=10000, random_state=42), regressor__alpha=100.0, regressor__fit_intercept=False, scaler=StandardScaler(); total time=   0.0s\n",
      "[CV] END regressor=Lasso(max_iter=10000, random_state=42), regressor__alpha=100.0, regressor__fit_intercept=False, scaler=StandardScaler(); total time=   0.0s\n",
      "[CV] END regressor=Lasso(max_iter=10000, random_state=42), regressor__alpha=100.0, regressor__fit_intercept=False, scaler=MinMaxScaler(); total time=   0.1s\n",
      "[CV] END regressor=Lasso(max_iter=10000, random_state=42), regressor__alpha=100.0, regressor__fit_intercept=False, scaler=MinMaxScaler(); total time=   0.1s\n",
      "[CV] END regressor=Lasso(max_iter=10000, random_state=42), regressor__alpha=100.0, regressor__fit_intercept=False, scaler=MinMaxScaler(); total time=   0.1s\n",
      "[CV] END regressor=Lasso(max_iter=10000, random_state=42), regressor__alpha=100.0, regressor__fit_intercept=False, scaler=MinMaxScaler(); total time=   0.1s\n",
      "[CV] END regressor=Lasso(max_iter=10000, random_state=42), regressor__alpha=100.0, regressor__fit_intercept=False, scaler=MinMaxScaler(); total time=   0.1s\n",
      "[CV] END regressor=Lasso(max_iter=10000, random_state=42), regressor__alpha=100.0, regressor__fit_intercept=False, scaler=MinMaxScaler(); total time=   0.2s\n",
      "[CV] END regressor=Lasso(max_iter=10000, random_state=42), regressor__alpha=100.0, regressor__fit_intercept=False, scaler=MinMaxScaler(); total time=   0.1s\n",
      "[CV] END regressor=Lasso(max_iter=10000, random_state=42), regressor__alpha=100.0, regressor__fit_intercept=False, scaler=MinMaxScaler(); total time=   0.1s\n",
      "[CV] END regressor=Lasso(max_iter=10000, random_state=42), regressor__alpha=100.0, regressor__fit_intercept=False, scaler=MinMaxScaler(); total time=   0.1s\n",
      "[CV] END regressor=Lasso(max_iter=10000, random_state=42), regressor__alpha=100.0, regressor__fit_intercept=False, scaler=MinMaxScaler(); total time=   0.1s\n",
      "[CV] END regressor=Lasso(max_iter=10000, random_state=42), regressor__alpha=100.0, regressor__fit_intercept=False, scaler=RobustScaler(); total time=   0.6s\n",
      "[CV] END regressor=Lasso(max_iter=10000, random_state=42), regressor__alpha=100.0, regressor__fit_intercept=False, scaler=RobustScaler(); total time=   0.3s\n",
      "[CV] END regressor=Lasso(max_iter=10000, random_state=42), regressor__alpha=100.0, regressor__fit_intercept=False, scaler=RobustScaler(); total time=   0.6s\n",
      "[CV] END regressor=Lasso(max_iter=10000, random_state=42), regressor__alpha=100.0, regressor__fit_intercept=False, scaler=RobustScaler(); total time=   0.6s\n",
      "[CV] END regressor=Lasso(max_iter=10000, random_state=42), regressor__alpha=100.0, regressor__fit_intercept=False, scaler=RobustScaler(); total time=   0.3s\n",
      "[CV] END regressor=Lasso(max_iter=10000, random_state=42), regressor__alpha=100.0, regressor__fit_intercept=False, scaler=RobustScaler(); total time=   0.3s\n",
      "[CV] END regressor=Lasso(max_iter=10000, random_state=42), regressor__alpha=100.0, regressor__fit_intercept=False, scaler=RobustScaler(); total time=   0.5s\n"
     ]
    },
    {
     "name": "stderr",
     "output_type": "stream",
     "text": [
      "/home/mate/repos/ML_assignment1/.venv/lib/python3.12/site-packages/sklearn/linear_model/_coordinate_descent.py:695: ConvergenceWarning: Objective did not converge. You might want to increase the number of iterations, check the scale of the features or consider increasing regularisation. Duality gap: 6.513e+10, tolerance: 4.155e+09\n",
      "  model = cd_fast.enet_coordinate_descent(\n"
     ]
    },
    {
     "name": "stdout",
     "output_type": "stream",
     "text": [
      "[CV] END regressor=Lasso(max_iter=10000, random_state=42), regressor__alpha=100.0, regressor__fit_intercept=False, scaler=RobustScaler(); total time=   0.7s\n"
     ]
    },
    {
     "name": "stderr",
     "output_type": "stream",
     "text": [
      "/home/mate/repos/ML_assignment1/.venv/lib/python3.12/site-packages/sklearn/linear_model/_coordinate_descent.py:695: ConvergenceWarning: Objective did not converge. You might want to increase the number of iterations, check the scale of the features or consider increasing regularisation. Duality gap: 1.012e+11, tolerance: 4.158e+09\n",
      "  model = cd_fast.enet_coordinate_descent(\n"
     ]
    },
    {
     "name": "stdout",
     "output_type": "stream",
     "text": [
      "[CV] END regressor=Lasso(max_iter=10000, random_state=42), regressor__alpha=100.0, regressor__fit_intercept=False, scaler=RobustScaler(); total time=   0.7s\n",
      "[CV] END regressor=Lasso(max_iter=10000, random_state=42), regressor__alpha=100.0, regressor__fit_intercept=False, scaler=RobustScaler(); total time=   0.4s\n"
     ]
    },
    {
     "name": "stderr",
     "output_type": "stream",
     "text": [
      "/home/mate/repos/ML_assignment1/.venv/lib/python3.12/site-packages/sklearn/linear_model/_coordinate_descent.py:695: ConvergenceWarning: Objective did not converge. You might want to increase the number of iterations, check the scale of the features or consider increasing regularisation. Duality gap: 4.449e+11, tolerance: 4.112e+09\n",
      "  model = cd_fast.enet_coordinate_descent(\n"
     ]
    },
    {
     "name": "stdout",
     "output_type": "stream",
     "text": [
      "[CV] END regressor=Lasso(max_iter=10000, random_state=42), regressor__alpha=100.0, regressor__fit_intercept=False, scaler=None; total time=   0.7s\n"
     ]
    },
    {
     "name": "stderr",
     "output_type": "stream",
     "text": [
      "/home/mate/repos/ML_assignment1/.venv/lib/python3.12/site-packages/sklearn/linear_model/_coordinate_descent.py:695: ConvergenceWarning: Objective did not converge. You might want to increase the number of iterations, check the scale of the features or consider increasing regularisation. Duality gap: 4.217e+11, tolerance: 4.048e+09\n",
      "  model = cd_fast.enet_coordinate_descent(\n"
     ]
    },
    {
     "name": "stdout",
     "output_type": "stream",
     "text": [
      "[CV] END regressor=Lasso(max_iter=10000, random_state=42), regressor__alpha=100.0, regressor__fit_intercept=False, scaler=None; total time=   0.7s\n"
     ]
    },
    {
     "name": "stderr",
     "output_type": "stream",
     "text": [
      "/home/mate/repos/ML_assignment1/.venv/lib/python3.12/site-packages/sklearn/linear_model/_coordinate_descent.py:695: ConvergenceWarning: Objective did not converge. You might want to increase the number of iterations, check the scale of the features or consider increasing regularisation. Duality gap: 4.141e+11, tolerance: 4.050e+09\n",
      "  model = cd_fast.enet_coordinate_descent(\n"
     ]
    },
    {
     "name": "stdout",
     "output_type": "stream",
     "text": [
      "[CV] END regressor=Lasso(max_iter=10000, random_state=42), regressor__alpha=100.0, regressor__fit_intercept=False, scaler=None; total time=   0.7s\n"
     ]
    },
    {
     "name": "stderr",
     "output_type": "stream",
     "text": [
      "/home/mate/repos/ML_assignment1/.venv/lib/python3.12/site-packages/sklearn/linear_model/_coordinate_descent.py:695: ConvergenceWarning: Objective did not converge. You might want to increase the number of iterations, check the scale of the features or consider increasing regularisation. Duality gap: 4.353e+11, tolerance: 4.180e+09\n",
      "  model = cd_fast.enet_coordinate_descent(\n"
     ]
    },
    {
     "name": "stdout",
     "output_type": "stream",
     "text": [
      "[CV] END regressor=Lasso(max_iter=10000, random_state=42), regressor__alpha=100.0, regressor__fit_intercept=False, scaler=None; total time=   0.7s\n"
     ]
    },
    {
     "name": "stderr",
     "output_type": "stream",
     "text": [
      "/home/mate/repos/ML_assignment1/.venv/lib/python3.12/site-packages/sklearn/linear_model/_coordinate_descent.py:695: ConvergenceWarning: Objective did not converge. You might want to increase the number of iterations, check the scale of the features or consider increasing regularisation. Duality gap: 4.349e+11, tolerance: 4.124e+09\n",
      "  model = cd_fast.enet_coordinate_descent(\n"
     ]
    },
    {
     "name": "stdout",
     "output_type": "stream",
     "text": [
      "[CV] END regressor=Lasso(max_iter=10000, random_state=42), regressor__alpha=100.0, regressor__fit_intercept=False, scaler=None; total time=   0.7s\n"
     ]
    },
    {
     "name": "stderr",
     "output_type": "stream",
     "text": [
      "/home/mate/repos/ML_assignment1/.venv/lib/python3.12/site-packages/sklearn/linear_model/_coordinate_descent.py:695: ConvergenceWarning: Objective did not converge. You might want to increase the number of iterations, check the scale of the features or consider increasing regularisation. Duality gap: 4.125e+11, tolerance: 4.133e+09\n",
      "  model = cd_fast.enet_coordinate_descent(\n"
     ]
    },
    {
     "name": "stdout",
     "output_type": "stream",
     "text": [
      "[CV] END regressor=Lasso(max_iter=10000, random_state=42), regressor__alpha=100.0, regressor__fit_intercept=False, scaler=None; total time=   0.7s\n"
     ]
    },
    {
     "name": "stderr",
     "output_type": "stream",
     "text": [
      "/home/mate/repos/ML_assignment1/.venv/lib/python3.12/site-packages/sklearn/linear_model/_coordinate_descent.py:695: ConvergenceWarning: Objective did not converge. You might want to increase the number of iterations, check the scale of the features or consider increasing regularisation. Duality gap: 4.284e+11, tolerance: 4.178e+09\n",
      "  model = cd_fast.enet_coordinate_descent(\n"
     ]
    },
    {
     "name": "stdout",
     "output_type": "stream",
     "text": [
      "[CV] END regressor=Lasso(max_iter=10000, random_state=42), regressor__alpha=100.0, regressor__fit_intercept=False, scaler=None; total time=   0.7s\n"
     ]
    },
    {
     "name": "stderr",
     "output_type": "stream",
     "text": [
      "/home/mate/repos/ML_assignment1/.venv/lib/python3.12/site-packages/sklearn/linear_model/_coordinate_descent.py:695: ConvergenceWarning: Objective did not converge. You might want to increase the number of iterations, check the scale of the features or consider increasing regularisation. Duality gap: 3.324e+11, tolerance: 4.155e+09\n",
      "  model = cd_fast.enet_coordinate_descent(\n"
     ]
    },
    {
     "name": "stdout",
     "output_type": "stream",
     "text": [
      "[CV] END regressor=Lasso(max_iter=10000, random_state=42), regressor__alpha=100.0, regressor__fit_intercept=False, scaler=None; total time=   0.7s\n"
     ]
    },
    {
     "name": "stderr",
     "output_type": "stream",
     "text": [
      "/home/mate/repos/ML_assignment1/.venv/lib/python3.12/site-packages/sklearn/linear_model/_coordinate_descent.py:695: ConvergenceWarning: Objective did not converge. You might want to increase the number of iterations, check the scale of the features or consider increasing regularisation. Duality gap: 4.369e+11, tolerance: 4.158e+09\n",
      "  model = cd_fast.enet_coordinate_descent(\n"
     ]
    },
    {
     "name": "stdout",
     "output_type": "stream",
     "text": [
      "[CV] END regressor=Lasso(max_iter=10000, random_state=42), regressor__alpha=100.0, regressor__fit_intercept=False, scaler=None; total time=   0.7s\n"
     ]
    },
    {
     "name": "stderr",
     "output_type": "stream",
     "text": [
      "/home/mate/repos/ML_assignment1/.venv/lib/python3.12/site-packages/sklearn/linear_model/_coordinate_descent.py:695: ConvergenceWarning: Objective did not converge. You might want to increase the number of iterations, check the scale of the features or consider increasing regularisation. Duality gap: 4.302e+11, tolerance: 4.099e+09\n",
      "  model = cd_fast.enet_coordinate_descent(\n"
     ]
    },
    {
     "name": "stdout",
     "output_type": "stream",
     "text": [
      "[CV] END regressor=Lasso(max_iter=10000, random_state=42), regressor__alpha=100.0, regressor__fit_intercept=False, scaler=None; total time=   0.7s\n",
      "[CV] END regressor=Lasso(max_iter=10000, random_state=42), regressor__alpha=1000.0, regressor__fit_intercept=True, scaler=StandardScaler(); total time=   0.0s\n",
      "[CV] END regressor=Lasso(max_iter=10000, random_state=42), regressor__alpha=1000.0, regressor__fit_intercept=True, scaler=StandardScaler(); total time=   0.0s\n",
      "[CV] END regressor=Lasso(max_iter=10000, random_state=42), regressor__alpha=1000.0, regressor__fit_intercept=True, scaler=StandardScaler(); total time=   0.0s\n",
      "[CV] END regressor=Lasso(max_iter=10000, random_state=42), regressor__alpha=1000.0, regressor__fit_intercept=True, scaler=StandardScaler(); total time=   0.0s\n",
      "[CV] END regressor=Lasso(max_iter=10000, random_state=42), regressor__alpha=1000.0, regressor__fit_intercept=True, scaler=StandardScaler(); total time=   0.0s\n",
      "[CV] END regressor=Lasso(max_iter=10000, random_state=42), regressor__alpha=1000.0, regressor__fit_intercept=True, scaler=StandardScaler(); total time=   0.0s\n",
      "[CV] END regressor=Lasso(max_iter=10000, random_state=42), regressor__alpha=1000.0, regressor__fit_intercept=True, scaler=StandardScaler(); total time=   0.0s\n",
      "[CV] END regressor=Lasso(max_iter=10000, random_state=42), regressor__alpha=1000.0, regressor__fit_intercept=True, scaler=StandardScaler(); total time=   0.0s\n",
      "[CV] END regressor=Lasso(max_iter=10000, random_state=42), regressor__alpha=1000.0, regressor__fit_intercept=True, scaler=StandardScaler(); total time=   0.0s\n",
      "[CV] END regressor=Lasso(max_iter=10000, random_state=42), regressor__alpha=1000.0, regressor__fit_intercept=True, scaler=StandardScaler(); total time=   0.0s\n",
      "[CV] END regressor=Lasso(max_iter=10000, random_state=42), regressor__alpha=1000.0, regressor__fit_intercept=True, scaler=MinMaxScaler(); total time=   0.0s\n",
      "[CV] END regressor=Lasso(max_iter=10000, random_state=42), regressor__alpha=1000.0, regressor__fit_intercept=True, scaler=MinMaxScaler(); total time=   0.0s\n",
      "[CV] END regressor=Lasso(max_iter=10000, random_state=42), regressor__alpha=1000.0, regressor__fit_intercept=True, scaler=MinMaxScaler(); total time=   0.0s\n",
      "[CV] END regressor=Lasso(max_iter=10000, random_state=42), regressor__alpha=1000.0, regressor__fit_intercept=True, scaler=MinMaxScaler(); total time=   0.0s\n",
      "[CV] END regressor=Lasso(max_iter=10000, random_state=42), regressor__alpha=1000.0, regressor__fit_intercept=True, scaler=MinMaxScaler(); total time=   0.0s\n",
      "[CV] END regressor=Lasso(max_iter=10000, random_state=42), regressor__alpha=1000.0, regressor__fit_intercept=True, scaler=MinMaxScaler(); total time=   0.0s\n",
      "[CV] END regressor=Lasso(max_iter=10000, random_state=42), regressor__alpha=1000.0, regressor__fit_intercept=True, scaler=MinMaxScaler(); total time=   0.0s\n",
      "[CV] END regressor=Lasso(max_iter=10000, random_state=42), regressor__alpha=1000.0, regressor__fit_intercept=True, scaler=MinMaxScaler(); total time=   0.0s\n",
      "[CV] END regressor=Lasso(max_iter=10000, random_state=42), regressor__alpha=1000.0, regressor__fit_intercept=True, scaler=MinMaxScaler(); total time=   0.0s\n",
      "[CV] END regressor=Lasso(max_iter=10000, random_state=42), regressor__alpha=1000.0, regressor__fit_intercept=True, scaler=MinMaxScaler(); total time=   0.0s\n",
      "[CV] END regressor=Lasso(max_iter=10000, random_state=42), regressor__alpha=1000.0, regressor__fit_intercept=True, scaler=RobustScaler(); total time=   0.0s\n",
      "[CV] END regressor=Lasso(max_iter=10000, random_state=42), regressor__alpha=1000.0, regressor__fit_intercept=True, scaler=RobustScaler(); total time=   0.0s\n",
      "[CV] END regressor=Lasso(max_iter=10000, random_state=42), regressor__alpha=1000.0, regressor__fit_intercept=True, scaler=RobustScaler(); total time=   0.0s\n",
      "[CV] END regressor=Lasso(max_iter=10000, random_state=42), regressor__alpha=1000.0, regressor__fit_intercept=True, scaler=RobustScaler(); total time=   0.0s\n",
      "[CV] END regressor=Lasso(max_iter=10000, random_state=42), regressor__alpha=1000.0, regressor__fit_intercept=True, scaler=RobustScaler(); total time=   0.0s\n",
      "[CV] END regressor=Lasso(max_iter=10000, random_state=42), regressor__alpha=1000.0, regressor__fit_intercept=True, scaler=RobustScaler(); total time=   0.0s\n",
      "[CV] END regressor=Lasso(max_iter=10000, random_state=42), regressor__alpha=1000.0, regressor__fit_intercept=True, scaler=RobustScaler(); total time=   0.0s\n",
      "[CV] END regressor=Lasso(max_iter=10000, random_state=42), regressor__alpha=1000.0, regressor__fit_intercept=True, scaler=RobustScaler(); total time=   0.0s\n",
      "[CV] END regressor=Lasso(max_iter=10000, random_state=42), regressor__alpha=1000.0, regressor__fit_intercept=True, scaler=RobustScaler(); total time=   0.0s\n",
      "[CV] END regressor=Lasso(max_iter=10000, random_state=42), regressor__alpha=1000.0, regressor__fit_intercept=True, scaler=RobustScaler(); total time=   0.0s\n",
      "[CV] END regressor=Lasso(max_iter=10000, random_state=42), regressor__alpha=1000.0, regressor__fit_intercept=True, scaler=None; total time=   0.0s\n",
      "[CV] END regressor=Lasso(max_iter=10000, random_state=42), regressor__alpha=1000.0, regressor__fit_intercept=True, scaler=None; total time=   0.0s\n",
      "[CV] END regressor=Lasso(max_iter=10000, random_state=42), regressor__alpha=1000.0, regressor__fit_intercept=True, scaler=None; total time=   0.0s\n",
      "[CV] END regressor=Lasso(max_iter=10000, random_state=42), regressor__alpha=1000.0, regressor__fit_intercept=True, scaler=None; total time=   0.0s\n",
      "[CV] END regressor=Lasso(max_iter=10000, random_state=42), regressor__alpha=1000.0, regressor__fit_intercept=True, scaler=None; total time=   0.0s\n",
      "[CV] END regressor=Lasso(max_iter=10000, random_state=42), regressor__alpha=1000.0, regressor__fit_intercept=True, scaler=None; total time=   0.0s\n",
      "[CV] END regressor=Lasso(max_iter=10000, random_state=42), regressor__alpha=1000.0, regressor__fit_intercept=True, scaler=None; total time=   0.0s\n",
      "[CV] END regressor=Lasso(max_iter=10000, random_state=42), regressor__alpha=1000.0, regressor__fit_intercept=True, scaler=None; total time=   0.0s\n",
      "[CV] END regressor=Lasso(max_iter=10000, random_state=42), regressor__alpha=1000.0, regressor__fit_intercept=True, scaler=None; total time=   0.0s\n",
      "[CV] END regressor=Lasso(max_iter=10000, random_state=42), regressor__alpha=1000.0, regressor__fit_intercept=True, scaler=None; total time=   0.0s\n",
      "[CV] END regressor=Lasso(max_iter=10000, random_state=42), regressor__alpha=1000.0, regressor__fit_intercept=False, scaler=StandardScaler(); total time=   0.0s\n",
      "[CV] END regressor=Lasso(max_iter=10000, random_state=42), regressor__alpha=1000.0, regressor__fit_intercept=False, scaler=StandardScaler(); total time=   0.0s\n",
      "[CV] END regressor=Lasso(max_iter=10000, random_state=42), regressor__alpha=1000.0, regressor__fit_intercept=False, scaler=StandardScaler(); total time=   0.0s\n",
      "[CV] END regressor=Lasso(max_iter=10000, random_state=42), regressor__alpha=1000.0, regressor__fit_intercept=False, scaler=StandardScaler(); total time=   0.0s\n",
      "[CV] END regressor=Lasso(max_iter=10000, random_state=42), regressor__alpha=1000.0, regressor__fit_intercept=False, scaler=StandardScaler(); total time=   0.0s\n",
      "[CV] END regressor=Lasso(max_iter=10000, random_state=42), regressor__alpha=1000.0, regressor__fit_intercept=False, scaler=StandardScaler(); total time=   0.0s\n",
      "[CV] END regressor=Lasso(max_iter=10000, random_state=42), regressor__alpha=1000.0, regressor__fit_intercept=False, scaler=StandardScaler(); total time=   0.0s\n",
      "[CV] END regressor=Lasso(max_iter=10000, random_state=42), regressor__alpha=1000.0, regressor__fit_intercept=False, scaler=StandardScaler(); total time=   0.0s\n",
      "[CV] END regressor=Lasso(max_iter=10000, random_state=42), regressor__alpha=1000.0, regressor__fit_intercept=False, scaler=StandardScaler(); total time=   0.0s\n",
      "[CV] END regressor=Lasso(max_iter=10000, random_state=42), regressor__alpha=1000.0, regressor__fit_intercept=False, scaler=StandardScaler(); total time=   0.0s\n",
      "[CV] END regressor=Lasso(max_iter=10000, random_state=42), regressor__alpha=1000.0, regressor__fit_intercept=False, scaler=MinMaxScaler(); total time=   0.0s\n",
      "[CV] END regressor=Lasso(max_iter=10000, random_state=42), regressor__alpha=1000.0, regressor__fit_intercept=False, scaler=MinMaxScaler(); total time=   0.0s\n",
      "[CV] END regressor=Lasso(max_iter=10000, random_state=42), regressor__alpha=1000.0, regressor__fit_intercept=False, scaler=MinMaxScaler(); total time=   0.0s\n",
      "[CV] END regressor=Lasso(max_iter=10000, random_state=42), regressor__alpha=1000.0, regressor__fit_intercept=False, scaler=MinMaxScaler(); total time=   0.0s\n",
      "[CV] END regressor=Lasso(max_iter=10000, random_state=42), regressor__alpha=1000.0, regressor__fit_intercept=False, scaler=MinMaxScaler(); total time=   0.0s\n",
      "[CV] END regressor=Lasso(max_iter=10000, random_state=42), regressor__alpha=1000.0, regressor__fit_intercept=False, scaler=MinMaxScaler(); total time=   0.0s\n",
      "[CV] END regressor=Lasso(max_iter=10000, random_state=42), regressor__alpha=1000.0, regressor__fit_intercept=False, scaler=MinMaxScaler(); total time=   0.0s\n",
      "[CV] END regressor=Lasso(max_iter=10000, random_state=42), regressor__alpha=1000.0, regressor__fit_intercept=False, scaler=MinMaxScaler(); total time=   0.0s\n",
      "[CV] END regressor=Lasso(max_iter=10000, random_state=42), regressor__alpha=1000.0, regressor__fit_intercept=False, scaler=MinMaxScaler(); total time=   0.0s\n",
      "[CV] END regressor=Lasso(max_iter=10000, random_state=42), regressor__alpha=1000.0, regressor__fit_intercept=False, scaler=MinMaxScaler(); total time=   0.0s\n",
      "[CV] END regressor=Lasso(max_iter=10000, random_state=42), regressor__alpha=1000.0, regressor__fit_intercept=False, scaler=RobustScaler(); total time=   0.0s\n",
      "[CV] END regressor=Lasso(max_iter=10000, random_state=42), regressor__alpha=1000.0, regressor__fit_intercept=False, scaler=RobustScaler(); total time=   0.0s\n",
      "[CV] END regressor=Lasso(max_iter=10000, random_state=42), regressor__alpha=1000.0, regressor__fit_intercept=False, scaler=RobustScaler(); total time=   0.0s\n",
      "[CV] END regressor=Lasso(max_iter=10000, random_state=42), regressor__alpha=1000.0, regressor__fit_intercept=False, scaler=RobustScaler(); total time=   0.0s\n",
      "[CV] END regressor=Lasso(max_iter=10000, random_state=42), regressor__alpha=1000.0, regressor__fit_intercept=False, scaler=RobustScaler(); total time=   0.0s\n",
      "[CV] END regressor=Lasso(max_iter=10000, random_state=42), regressor__alpha=1000.0, regressor__fit_intercept=False, scaler=RobustScaler(); total time=   0.0s\n",
      "[CV] END regressor=Lasso(max_iter=10000, random_state=42), regressor__alpha=1000.0, regressor__fit_intercept=False, scaler=RobustScaler(); total time=   0.0s\n",
      "[CV] END regressor=Lasso(max_iter=10000, random_state=42), regressor__alpha=1000.0, regressor__fit_intercept=False, scaler=RobustScaler(); total time=   0.0s\n",
      "[CV] END regressor=Lasso(max_iter=10000, random_state=42), regressor__alpha=1000.0, regressor__fit_intercept=False, scaler=RobustScaler(); total time=   0.0s\n",
      "[CV] END regressor=Lasso(max_iter=10000, random_state=42), regressor__alpha=1000.0, regressor__fit_intercept=False, scaler=RobustScaler(); total time=   0.0s\n"
     ]
    },
    {
     "name": "stderr",
     "output_type": "stream",
     "text": [
      "/home/mate/repos/ML_assignment1/.venv/lib/python3.12/site-packages/sklearn/linear_model/_coordinate_descent.py:695: ConvergenceWarning: Objective did not converge. You might want to increase the number of iterations, check the scale of the features or consider increasing regularisation. Duality gap: 7.270e+11, tolerance: 4.112e+09\n",
      "  model = cd_fast.enet_coordinate_descent(\n"
     ]
    },
    {
     "name": "stdout",
     "output_type": "stream",
     "text": [
      "[CV] END regressor=Lasso(max_iter=10000, random_state=42), regressor__alpha=1000.0, regressor__fit_intercept=False, scaler=None; total time=   0.6s\n"
     ]
    },
    {
     "name": "stderr",
     "output_type": "stream",
     "text": [
      "/home/mate/repos/ML_assignment1/.venv/lib/python3.12/site-packages/sklearn/linear_model/_coordinate_descent.py:695: ConvergenceWarning: Objective did not converge. You might want to increase the number of iterations, check the scale of the features or consider increasing regularisation. Duality gap: 6.967e+11, tolerance: 4.048e+09\n",
      "  model = cd_fast.enet_coordinate_descent(\n"
     ]
    },
    {
     "name": "stdout",
     "output_type": "stream",
     "text": [
      "[CV] END regressor=Lasso(max_iter=10000, random_state=42), regressor__alpha=1000.0, regressor__fit_intercept=False, scaler=None; total time=   0.6s\n"
     ]
    },
    {
     "name": "stderr",
     "output_type": "stream",
     "text": [
      "/home/mate/repos/ML_assignment1/.venv/lib/python3.12/site-packages/sklearn/linear_model/_coordinate_descent.py:695: ConvergenceWarning: Objective did not converge. You might want to increase the number of iterations, check the scale of the features or consider increasing regularisation. Duality gap: 6.696e+11, tolerance: 4.050e+09\n",
      "  model = cd_fast.enet_coordinate_descent(\n"
     ]
    },
    {
     "name": "stdout",
     "output_type": "stream",
     "text": [
      "[CV] END regressor=Lasso(max_iter=10000, random_state=42), regressor__alpha=1000.0, regressor__fit_intercept=False, scaler=None; total time=   0.6s\n"
     ]
    },
    {
     "name": "stderr",
     "output_type": "stream",
     "text": [
      "/home/mate/repos/ML_assignment1/.venv/lib/python3.12/site-packages/sklearn/linear_model/_coordinate_descent.py:695: ConvergenceWarning: Objective did not converge. You might want to increase the number of iterations, check the scale of the features or consider increasing regularisation. Duality gap: 7.329e+11, tolerance: 4.180e+09\n",
      "  model = cd_fast.enet_coordinate_descent(\n"
     ]
    },
    {
     "name": "stdout",
     "output_type": "stream",
     "text": [
      "[CV] END regressor=Lasso(max_iter=10000, random_state=42), regressor__alpha=1000.0, regressor__fit_intercept=False, scaler=None; total time=   0.6s\n"
     ]
    },
    {
     "name": "stderr",
     "output_type": "stream",
     "text": [
      "/home/mate/repos/ML_assignment1/.venv/lib/python3.12/site-packages/sklearn/linear_model/_coordinate_descent.py:695: ConvergenceWarning: Objective did not converge. You might want to increase the number of iterations, check the scale of the features or consider increasing regularisation. Duality gap: 7.226e+11, tolerance: 4.124e+09\n",
      "  model = cd_fast.enet_coordinate_descent(\n"
     ]
    },
    {
     "name": "stdout",
     "output_type": "stream",
     "text": [
      "[CV] END regressor=Lasso(max_iter=10000, random_state=42), regressor__alpha=1000.0, regressor__fit_intercept=False, scaler=None; total time=   0.6s\n"
     ]
    },
    {
     "name": "stderr",
     "output_type": "stream",
     "text": [
      "/home/mate/repos/ML_assignment1/.venv/lib/python3.12/site-packages/sklearn/linear_model/_coordinate_descent.py:695: ConvergenceWarning: Objective did not converge. You might want to increase the number of iterations, check the scale of the features or consider increasing regularisation. Duality gap: 7.021e+11, tolerance: 4.133e+09\n",
      "  model = cd_fast.enet_coordinate_descent(\n"
     ]
    },
    {
     "name": "stdout",
     "output_type": "stream",
     "text": [
      "[CV] END regressor=Lasso(max_iter=10000, random_state=42), regressor__alpha=1000.0, regressor__fit_intercept=False, scaler=None; total time=   0.6s\n"
     ]
    },
    {
     "name": "stderr",
     "output_type": "stream",
     "text": [
      "/home/mate/repos/ML_assignment1/.venv/lib/python3.12/site-packages/sklearn/linear_model/_coordinate_descent.py:695: ConvergenceWarning: Objective did not converge. You might want to increase the number of iterations, check the scale of the features or consider increasing regularisation. Duality gap: 6.970e+11, tolerance: 4.178e+09\n",
      "  model = cd_fast.enet_coordinate_descent(\n"
     ]
    },
    {
     "name": "stdout",
     "output_type": "stream",
     "text": [
      "[CV] END regressor=Lasso(max_iter=10000, random_state=42), regressor__alpha=1000.0, regressor__fit_intercept=False, scaler=None; total time=   0.6s\n"
     ]
    },
    {
     "name": "stderr",
     "output_type": "stream",
     "text": [
      "/home/mate/repos/ML_assignment1/.venv/lib/python3.12/site-packages/sklearn/linear_model/_coordinate_descent.py:695: ConvergenceWarning: Objective did not converge. You might want to increase the number of iterations, check the scale of the features or consider increasing regularisation. Duality gap: 4.941e+11, tolerance: 4.155e+09\n",
      "  model = cd_fast.enet_coordinate_descent(\n"
     ]
    },
    {
     "name": "stdout",
     "output_type": "stream",
     "text": [
      "[CV] END regressor=Lasso(max_iter=10000, random_state=42), regressor__alpha=1000.0, regressor__fit_intercept=False, scaler=None; total time=   0.6s\n"
     ]
    },
    {
     "name": "stderr",
     "output_type": "stream",
     "text": [
      "/home/mate/repos/ML_assignment1/.venv/lib/python3.12/site-packages/sklearn/linear_model/_coordinate_descent.py:695: ConvergenceWarning: Objective did not converge. You might want to increase the number of iterations, check the scale of the features or consider increasing regularisation. Duality gap: 7.360e+11, tolerance: 4.158e+09\n",
      "  model = cd_fast.enet_coordinate_descent(\n"
     ]
    },
    {
     "name": "stdout",
     "output_type": "stream",
     "text": [
      "[CV] END regressor=Lasso(max_iter=10000, random_state=42), regressor__alpha=1000.0, regressor__fit_intercept=False, scaler=None; total time=   0.6s\n"
     ]
    },
    {
     "name": "stderr",
     "output_type": "stream",
     "text": [
      "/home/mate/repos/ML_assignment1/.venv/lib/python3.12/site-packages/sklearn/linear_model/_coordinate_descent.py:695: ConvergenceWarning: Objective did not converge. You might want to increase the number of iterations, check the scale of the features or consider increasing regularisation. Duality gap: 7.092e+11, tolerance: 4.099e+09\n",
      "  model = cd_fast.enet_coordinate_descent(\n"
     ]
    },
    {
     "name": "stdout",
     "output_type": "stream",
     "text": [
      "[CV] END regressor=Lasso(max_iter=10000, random_state=42), regressor__alpha=1000.0, regressor__fit_intercept=False, scaler=None; total time=   0.6s\n",
      "[CV] END regressor=RandomForestRegressor(random_state=42), regressor__max_depth=10, regressor__min_samples_leaf=2, regressor__min_samples_split=5, regressor__n_estimators=100, scaler=None; total time=   0.9s\n",
      "[CV] END regressor=RandomForestRegressor(random_state=42), regressor__max_depth=10, regressor__min_samples_leaf=2, regressor__min_samples_split=5, regressor__n_estimators=100, scaler=None; total time=   0.9s\n",
      "[CV] END regressor=RandomForestRegressor(random_state=42), regressor__max_depth=10, regressor__min_samples_leaf=2, regressor__min_samples_split=5, regressor__n_estimators=100, scaler=None; total time=   0.9s\n",
      "[CV] END regressor=RandomForestRegressor(random_state=42), regressor__max_depth=10, regressor__min_samples_leaf=2, regressor__min_samples_split=5, regressor__n_estimators=100, scaler=None; total time=   0.9s\n",
      "[CV] END regressor=RandomForestRegressor(random_state=42), regressor__max_depth=10, regressor__min_samples_leaf=2, regressor__min_samples_split=5, regressor__n_estimators=100, scaler=None; total time=   0.9s\n",
      "[CV] END regressor=RandomForestRegressor(random_state=42), regressor__max_depth=10, regressor__min_samples_leaf=2, regressor__min_samples_split=5, regressor__n_estimators=100, scaler=None; total time=   0.9s\n",
      "[CV] END regressor=RandomForestRegressor(random_state=42), regressor__max_depth=10, regressor__min_samples_leaf=2, regressor__min_samples_split=5, regressor__n_estimators=100, scaler=None; total time=   0.9s\n",
      "[CV] END regressor=RandomForestRegressor(random_state=42), regressor__max_depth=10, regressor__min_samples_leaf=2, regressor__min_samples_split=5, regressor__n_estimators=100, scaler=None; total time=   0.9s\n",
      "[CV] END regressor=RandomForestRegressor(random_state=42), regressor__max_depth=10, regressor__min_samples_leaf=2, regressor__min_samples_split=5, regressor__n_estimators=100, scaler=None; total time=   0.9s\n",
      "[CV] END regressor=RandomForestRegressor(random_state=42), regressor__max_depth=10, regressor__min_samples_leaf=2, regressor__min_samples_split=5, regressor__n_estimators=100, scaler=None; total time=   0.9s\n"
     ]
    },
    {
     "name": "stderr",
     "output_type": "stream",
     "text": [
      "/tmp/ipykernel_34230/2932841027.py:13: RuntimeWarning: overflow encountered in exp\n",
      "  y_test_pred_exp = np.exp(y_test_pred)\n",
      "/tmp/ipykernel_34230/2932841027.py:14: RuntimeWarning: overflow encountered in exp\n",
      "  y_train_pred_exp = np.exp(y_train_pred)\n",
      "\u001b[31m2025/04/09 20:22:05 WARNING mlflow.models.model: Model logged without a signature and input example. Please set `input_example` parameter when logging the model to auto infer the model signature.\u001b[0m\n"
     ]
    },
    {
     "name": "stdout",
     "output_type": "stream",
     "text": [
      "Best Score: -32094.225922530848\n",
      "Test RMSE: 24163.8797810723\n",
      "🏃 View run Linear Regression with regular cross validation training on SalePrice values at: https://dagshub.com/CarlTeapot/ML_assignment1.mlflow/#/experiments/0/runs/d4d9bd07e16e4bf3ad16699056ed0cc8\n",
      "🧪 View experiment at: https://dagshub.com/CarlTeapot/ML_assignment1.mlflow/#/experiments/0\n"
     ]
    }
   ],
   "source": [
    "dagshub.init(repo_owner='CarlTeapot', repo_name='ML_assignment1', mlflow=True)\n",
    "\n",
    "\n",
    "name = \"Linear Regression with regular cross validation training on SalePrice values\"\n",
    "\n",
    "\n",
    "with mlflow.start_run(run_name = name):\n",
    "\n",
    "        #grid_search.fit(X_train, y_train_log)\n",
    "        grid_search.fit(X_train, y_train)\n",
    "        y_test_pred = grid_search.best_estimator_.predict(X_test)\n",
    "        y_train_pred = grid_search.best_estimator_.predict(X_train)\n",
    "        y_test_pred_exp = np.exp(y_test_pred)\n",
    "        y_train_pred_exp = np.exp(y_train_pred)\n",
    "\n",
    "       # test_rmse =  np.sqrt(mean_squared_error(y_test, y_test_pred_exp))\n",
    "        #train_rmse = np.sqrt(mean_squared_error(y_train, y_train_pred_exp))\n",
    "        test_rmse =  np.sqrt(mean_squared_error(y_test, y_test_pred))\n",
    "        train_rmse = np.sqrt(mean_squared_error(y_train, y_train_pred))\n",
    "        log_test_rmse = np.sqrt(mean_squared_error(np.log(y_test), np.log(y_test_pred)))\n",
    "        mlflow.log_params(grid_search.best_params_)\n",
    "        mlflow.sklearn.log_model(grid_search.best_estimator_, \"best_model\") \n",
    "        mlflow.log_metric(\"Train set Root Mean Square Error \", train_rmse)\n",
    "        mlflow.log_metric(\"Test set Root Mean Square Error \", test_rmse)\n",
    "        mlflow.log_metric(\"Log of Test set Root Mean Square Error \", log_test_rmse)\n",
    "        print(\"Best Score:\", grid_search.best_score_)\n",
    "        print(\"Test RMSE:\", test_rmse)\n",
    "\n"
   ]
  }
 ],
 "metadata": {
  "kernelspec": {
   "display_name": ".venv",
   "language": "python",
   "name": "python3"
  },
  "language_info": {
   "codemirror_mode": {
    "name": "ipython",
    "version": 3
   },
   "file_extension": ".py",
   "mimetype": "text/x-python",
   "name": "python",
   "nbconvert_exporter": "python",
   "pygments_lexer": "ipython3",
   "version": "3.12.3"
  }
 },
 "nbformat": 4,
 "nbformat_minor": 5
}
