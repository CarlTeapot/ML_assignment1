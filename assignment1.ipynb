{
 "cells": [
  {
   "cell_type": "markdown",
   "id": "29e57976",
   "metadata": {},
   "source": [
    "## Import Libraries"
   ]
  },
  {
   "cell_type": "code",
   "execution_count": 820,
   "id": "25ad1e0d",
   "metadata": {},
   "outputs": [],
   "source": [
    "import pandas as pd\n",
    "import numpy as np\n",
    "import matplotlib.pyplot as plt\n",
    "import seaborn as sns\n",
    "import dagshub\n",
    "import mlflow\n"
   ]
  },
  {
   "cell_type": "markdown",
   "id": "c5af8dc8",
   "metadata": {},
   "source": [
    "## Connect to my Remote Repository on dagshub"
   ]
  },
  {
   "cell_type": "code",
   "execution_count": 821,
   "id": "b7f91d10",
   "metadata": {},
   "outputs": [
    {
     "data": {
      "text/html": [
       "<pre style=\"white-space:pre;overflow-x:auto;line-height:normal;font-family:Menlo,'DejaVu Sans Mono',consolas,'Courier New',monospace\">Initialized MLflow to track repo <span style=\"color: #008000; text-decoration-color: #008000\">\"CarlTeapot/ML_assignment1\"</span>\n",
       "</pre>\n"
      ],
      "text/plain": [
       "Initialized MLflow to track repo \u001b[32m\"CarlTeapot/ML_assignment1\"\u001b[0m\n"
      ]
     },
     "metadata": {},
     "output_type": "display_data"
    },
    {
     "data": {
      "text/html": [
       "<pre style=\"white-space:pre;overflow-x:auto;line-height:normal;font-family:Menlo,'DejaVu Sans Mono',consolas,'Courier New',monospace\">Repository CarlTeapot/ML_assignment1 initialized!\n",
       "</pre>\n"
      ],
      "text/plain": [
       "Repository CarlTeapot/ML_assignment1 initialized!\n"
      ]
     },
     "metadata": {},
     "output_type": "display_data"
    }
   ],
   "source": [
    "\n",
    "dagshub.init(repo_owner='CarlTeapot', repo_name='ML_assignment1', mlflow=True)\n"
   ]
  },
  {
   "cell_type": "code",
   "execution_count": 822,
   "id": "d9dffd58",
   "metadata": {},
   "outputs": [],
   "source": [
    "path = \"./mlData\"\n",
    "df = pd.read_csv(path + \"/train.csv\")"
   ]
  },
  {
   "cell_type": "markdown",
   "id": "28c8262b",
   "metadata": {},
   "source": [
    "Extract SalePrice as a Y vector "
   ]
  },
  {
   "cell_type": "code",
   "execution_count": 823,
   "id": "1331ec83",
   "metadata": {},
   "outputs": [],
   "source": [
    "y_train = df['SalePrice']"
   ]
  },
  {
   "cell_type": "markdown",
   "id": "bba5d880",
   "metadata": {},
   "source": [
    "Find the Parameters with the most null values"
   ]
  },
  {
   "cell_type": "code",
   "execution_count": 824,
   "id": "8161ab68",
   "metadata": {},
   "outputs": [
    {
     "data": {
      "text/html": [
       "<div>\n",
       "<style scoped>\n",
       "    .dataframe tbody tr th:only-of-type {\n",
       "        vertical-align: middle;\n",
       "    }\n",
       "\n",
       "    .dataframe tbody tr th {\n",
       "        vertical-align: top;\n",
       "    }\n",
       "\n",
       "    .dataframe thead th {\n",
       "        text-align: right;\n",
       "    }\n",
       "</style>\n",
       "<table border=\"1\" class=\"dataframe\">\n",
       "  <thead>\n",
       "    <tr style=\"text-align: right;\">\n",
       "      <th></th>\n",
       "      <th>Total</th>\n",
       "      <th>Percent</th>\n",
       "    </tr>\n",
       "  </thead>\n",
       "  <tbody>\n",
       "    <tr>\n",
       "      <th>PoolQC</th>\n",
       "      <td>1453</td>\n",
       "      <td>99.520548</td>\n",
       "    </tr>\n",
       "    <tr>\n",
       "      <th>MiscFeature</th>\n",
       "      <td>1406</td>\n",
       "      <td>96.301370</td>\n",
       "    </tr>\n",
       "    <tr>\n",
       "      <th>Alley</th>\n",
       "      <td>1369</td>\n",
       "      <td>93.767123</td>\n",
       "    </tr>\n",
       "    <tr>\n",
       "      <th>Fence</th>\n",
       "      <td>1179</td>\n",
       "      <td>80.753425</td>\n",
       "    </tr>\n",
       "    <tr>\n",
       "      <th>MasVnrType</th>\n",
       "      <td>872</td>\n",
       "      <td>59.726027</td>\n",
       "    </tr>\n",
       "    <tr>\n",
       "      <th>FireplaceQu</th>\n",
       "      <td>690</td>\n",
       "      <td>47.260274</td>\n",
       "    </tr>\n",
       "    <tr>\n",
       "      <th>LotFrontage</th>\n",
       "      <td>259</td>\n",
       "      <td>17.739726</td>\n",
       "    </tr>\n",
       "    <tr>\n",
       "      <th>GarageQual</th>\n",
       "      <td>81</td>\n",
       "      <td>5.547945</td>\n",
       "    </tr>\n",
       "    <tr>\n",
       "      <th>GarageFinish</th>\n",
       "      <td>81</td>\n",
       "      <td>5.547945</td>\n",
       "    </tr>\n",
       "    <tr>\n",
       "      <th>GarageType</th>\n",
       "      <td>81</td>\n",
       "      <td>5.547945</td>\n",
       "    </tr>\n",
       "    <tr>\n",
       "      <th>GarageYrBlt</th>\n",
       "      <td>81</td>\n",
       "      <td>5.547945</td>\n",
       "    </tr>\n",
       "    <tr>\n",
       "      <th>GarageCond</th>\n",
       "      <td>81</td>\n",
       "      <td>5.547945</td>\n",
       "    </tr>\n",
       "    <tr>\n",
       "      <th>BsmtFinType2</th>\n",
       "      <td>38</td>\n",
       "      <td>2.602740</td>\n",
       "    </tr>\n",
       "    <tr>\n",
       "      <th>BsmtExposure</th>\n",
       "      <td>38</td>\n",
       "      <td>2.602740</td>\n",
       "    </tr>\n",
       "    <tr>\n",
       "      <th>BsmtCond</th>\n",
       "      <td>37</td>\n",
       "      <td>2.534247</td>\n",
       "    </tr>\n",
       "    <tr>\n",
       "      <th>BsmtQual</th>\n",
       "      <td>37</td>\n",
       "      <td>2.534247</td>\n",
       "    </tr>\n",
       "    <tr>\n",
       "      <th>BsmtFinType1</th>\n",
       "      <td>37</td>\n",
       "      <td>2.534247</td>\n",
       "    </tr>\n",
       "    <tr>\n",
       "      <th>MasVnrArea</th>\n",
       "      <td>8</td>\n",
       "      <td>0.547945</td>\n",
       "    </tr>\n",
       "    <tr>\n",
       "      <th>Electrical</th>\n",
       "      <td>1</td>\n",
       "      <td>0.068493</td>\n",
       "    </tr>\n",
       "    <tr>\n",
       "      <th>Condition2</th>\n",
       "      <td>0</td>\n",
       "      <td>0.000000</td>\n",
       "    </tr>\n",
       "  </tbody>\n",
       "</table>\n",
       "</div>"
      ],
      "text/plain": [
       "              Total    Percent\n",
       "PoolQC         1453  99.520548\n",
       "MiscFeature    1406  96.301370\n",
       "Alley          1369  93.767123\n",
       "Fence          1179  80.753425\n",
       "MasVnrType      872  59.726027\n",
       "FireplaceQu     690  47.260274\n",
       "LotFrontage     259  17.739726\n",
       "GarageQual       81   5.547945\n",
       "GarageFinish     81   5.547945\n",
       "GarageType       81   5.547945\n",
       "GarageYrBlt      81   5.547945\n",
       "GarageCond       81   5.547945\n",
       "BsmtFinType2     38   2.602740\n",
       "BsmtExposure     38   2.602740\n",
       "BsmtCond         37   2.534247\n",
       "BsmtQual         37   2.534247\n",
       "BsmtFinType1     37   2.534247\n",
       "MasVnrArea        8   0.547945\n",
       "Electrical        1   0.068493\n",
       "Condition2        0   0.000000"
      ]
     },
     "execution_count": 824,
     "metadata": {},
     "output_type": "execute_result"
    }
   ],
   "source": [
    "total = df.isnull().sum().sort_values(ascending=False)\n",
    "percent = ((df.isnull().sum()/df.isnull().count()) * 100).sort_values(ascending=False)\n",
    "missing_data = pd.concat([total, percent], axis=1, keys=['Total', 'Percent'])\n",
    "missing_data.head(20)"
   ]
  },
  {
   "cell_type": "markdown",
   "id": "732889a0",
   "metadata": {},
   "source": [
    "Even though some of the parameters on the top of this list might seem important, like the Pool quality or a fireplace quality, it would be safe to ignore them considering just how much of the houses dont have either of them. and looking at their correlation with price, we can safely assume that they are not important"
   ]
  },
  {
   "cell_type": "code",
   "execution_count": 825,
   "id": "f567a763",
   "metadata": {},
   "outputs": [],
   "source": [
    "rem_missing_data=missing_data[missing_data['Percent'] < 20]\n",
    "\n",
    "df = df.drop(missing_data[missing_data['Percent'] > 20].index,axis=1)\n"
   ]
  },
  {
   "cell_type": "markdown",
   "id": "221bb0ca",
   "metadata": {},
   "source": [
    "We still have 13 parameters that contain null values left in our data. now we have to figure out which approach is best:\n",
    "1) Dropping these columns entirely?\n",
    "2) replacing the null values with modes or medianes"
   ]
  },
  {
   "cell_type": "code",
   "execution_count": 826,
   "id": "114db5c9",
   "metadata": {},
   "outputs": [
    {
     "data": {
      "text/plain": [
       "(13, 2)"
      ]
     },
     "execution_count": 826,
     "metadata": {},
     "output_type": "execute_result"
    }
   ],
   "source": [
    "rem_missing_data[rem_missing_data['Percent'] > 0].shape"
   ]
  },
  {
   "cell_type": "markdown",
   "id": "3509d7ca",
   "metadata": {},
   "source": [
    "## lets check the LotFrontage parameter."
   ]
  },
  {
   "cell_type": "code",
   "execution_count": 827,
   "id": "2171c073",
   "metadata": {},
   "outputs": [
    {
     "data": {
      "image/png": "[encoded data removed]",
      "text/plain": [
       "<Figure size 640x480 with 1 Axes>"
      ]
     },
     "metadata": {},
     "output_type": "display_data"
    }
   ],
   "source": [
    "var = 'LotFrontage'\n",
    "data = pd.concat([df['SalePrice'], df[var]], axis=1)\n",
    "data.plot.scatter(x=var, y='SalePrice', ylim=(0,800000));"
   ]
  },
  {
   "cell_type": "markdown",
   "id": "64354d49",
   "metadata": {},
   "source": [
    "As we can see, it has a very random relationship with a SalePrice parameter, so it would be safe to ignore it.  Same can be said with the MasVnrArea and GarageYrBlt parameters. We can also safely assume that the only garage parameters that might affect our predictions might be Garage Quality and Garage Condition"
   ]
  },
  {
   "cell_type": "code",
   "execution_count": 828,
   "id": "4ae02c94",
   "metadata": {},
   "outputs": [],
   "source": [
    "df = df.drop(['LotFrontage', 'MasVnrArea', 'GarageYrBlt'], axis=1)\n"
   ]
  },
  {
   "cell_type": "code",
   "execution_count": 829,
   "id": "e6c1f804",
   "metadata": {},
   "outputs": [],
   "source": [
    "rem_missing_data = rem_missing_data.drop(['LotFrontage', 'MasVnrArea', 'GarageYrBlt', 'GarageFinish', 'GarageType'])\n",
    "rem_missing_data = rem_missing_data[rem_missing_data['Percent'] > 0]"
   ]
  },
  {
   "cell_type": "markdown",
   "id": "16d93edd",
   "metadata": {},
   "source": [
    "We shouldnt drop \"Electrical\" parameter because of 1 Null value. so lets just delete the row with the null electricity variable\n",
    "(who would want to buy a house without an electricity system anyway)"
   ]
  },
  {
   "cell_type": "code",
   "execution_count": 830,
   "id": "e84d4695",
   "metadata": {},
   "outputs": [],
   "source": [
    "df = df.drop(df.loc[df['Electrical'].isnull()].index)\n",
    "rem_missing_data.drop('Electrical', inplace=True)\n"
   ]
  },
  {
   "cell_type": "code",
   "execution_count": 831,
   "id": "a3a5f893",
   "metadata": {},
   "outputs": [
    {
     "data": {
      "text/html": [
       "<div>\n",
       "<style scoped>\n",
       "    .dataframe tbody tr th:only-of-type {\n",
       "        vertical-align: middle;\n",
       "    }\n",
       "\n",
       "    .dataframe tbody tr th {\n",
       "        vertical-align: top;\n",
       "    }\n",
       "\n",
       "    .dataframe thead th {\n",
       "        text-align: right;\n",
       "    }\n",
       "</style>\n",
       "<table border=\"1\" class=\"dataframe\">\n",
       "  <thead>\n",
       "    <tr style=\"text-align: right;\">\n",
       "      <th></th>\n",
       "      <th>Total</th>\n",
       "      <th>Percent</th>\n",
       "    </tr>\n",
       "  </thead>\n",
       "  <tbody>\n",
       "    <tr>\n",
       "      <th>GarageQual</th>\n",
       "      <td>81</td>\n",
       "      <td>5.547945</td>\n",
       "    </tr>\n",
       "    <tr>\n",
       "      <th>GarageCond</th>\n",
       "      <td>81</td>\n",
       "      <td>5.547945</td>\n",
       "    </tr>\n",
       "    <tr>\n",
       "      <th>BsmtFinType2</th>\n",
       "      <td>38</td>\n",
       "      <td>2.602740</td>\n",
       "    </tr>\n",
       "    <tr>\n",
       "      <th>BsmtExposure</th>\n",
       "      <td>38</td>\n",
       "      <td>2.602740</td>\n",
       "    </tr>\n",
       "    <tr>\n",
       "      <th>BsmtCond</th>\n",
       "      <td>37</td>\n",
       "      <td>2.534247</td>\n",
       "    </tr>\n",
       "    <tr>\n",
       "      <th>BsmtQual</th>\n",
       "      <td>37</td>\n",
       "      <td>2.534247</td>\n",
       "    </tr>\n",
       "    <tr>\n",
       "      <th>BsmtFinType1</th>\n",
       "      <td>37</td>\n",
       "      <td>2.534247</td>\n",
       "    </tr>\n",
       "  </tbody>\n",
       "</table>\n",
       "</div>"
      ],
      "text/plain": [
       "              Total   Percent\n",
       "GarageQual       81  5.547945\n",
       "GarageCond       81  5.547945\n",
       "BsmtFinType2     38  2.602740\n",
       "BsmtExposure     38  2.602740\n",
       "BsmtCond         37  2.534247\n",
       "BsmtQual         37  2.534247\n",
       "BsmtFinType1     37  2.534247"
      ]
     },
     "execution_count": 831,
     "metadata": {},
     "output_type": "execute_result"
    }
   ],
   "source": [
    "rem_missing_data"
   ]
  },
  {
   "cell_type": "markdown",
   "id": "345ad309",
   "metadata": {},
   "source": [
    "Lets get rid of nulls in the Garage and Basement parameters, convert them into numericals and combine them into two parameters"
   ]
  },
  {
   "cell_type": "code",
   "execution_count": 832,
   "id": "a46d3235",
   "metadata": {},
   "outputs": [],
   "source": [
    "garage_cols = ['GarageQual', 'GarageCond']\n",
    "qual_map = {\n",
    "    'Ex': 5,   # Excellent\n",
    "    'Gd': 4,   # Good\n",
    "    'TA': 3,   # Typical/Average\n",
    "    'Fa': 2,   # Fair\n",
    "    'Po': 1,   # Poor\n",
    "    np.nan: 0  # No garage\n",
    "}\n",
    "\n",
    "for col in ['GarageQual', 'GarageCond']:\n",
    "    df[col] = df[col].map(qual_map)"
   ]
  },
  {
   "cell_type": "markdown",
   "id": "32b12a42",
   "metadata": {},
   "source": [
    "As we can see, after converting Garage Quality parameter to a numerical one, it doesnt really have a linear relationship with SalePrice, but it has some kind of relationship, because, as we can see, houses without garages or houses with poor ones arent as expensive, so lets keep these variables."
   ]
  },
  {
   "cell_type": "code",
   "execution_count": 833,
   "id": "7d3847e6",
   "metadata": {},
   "outputs": [
    {
     "data": {
      "image/png": "[encoded data removed]",
      "text/plain": [
       "<Figure size 640x480 with 1 Axes>"
      ]
     },
     "metadata": {},
     "output_type": "display_data"
    }
   ],
   "source": [
    "var = 'GarageQual'\n",
    "data = pd.concat([df['SalePrice'], df[var]], axis=1)\n",
    "data.plot.scatter(x=var, y='SalePrice', ylim=(0,800000));"
   ]
  },
  {
   "cell_type": "markdown",
   "id": "83779064",
   "metadata": {},
   "source": [
    "Garage Quality and Garage condition are kind of the same variables, so lets drop one of them"
   ]
  },
  {
   "cell_type": "code",
   "execution_count": 834,
   "id": "4e2665e4",
   "metadata": {},
   "outputs": [
    {
     "data": {
      "image/png": "[encoded data removed]",
      "text/plain": [
       "<Figure size 640x480 with 1 Axes>"
      ]
     },
     "metadata": {},
     "output_type": "display_data"
    }
   ],
   "source": [
    "var = 'GarageQual'\n",
    "data = pd.concat([df['GarageCond'], df[var]], axis=1)\n",
    "data.plot.scatter(x=var, y='GarageCond', ylim=(0,800000));"
   ]
  },
  {
   "cell_type": "code",
   "execution_count": 835,
   "id": "82115343",
   "metadata": {},
   "outputs": [],
   "source": [
    "df.drop('GarageCond', axis=1, inplace=True)"
   ]
  },
  {
   "cell_type": "code",
   "execution_count": 836,
   "id": "2a3c8569",
   "metadata": {},
   "outputs": [
    {
     "data": {
      "text/html": [
       "<div>\n",
       "<style scoped>\n",
       "    .dataframe tbody tr th:only-of-type {\n",
       "        vertical-align: middle;\n",
       "    }\n",
       "\n",
       "    .dataframe tbody tr th {\n",
       "        vertical-align: top;\n",
       "    }\n",
       "\n",
       "    .dataframe thead th {\n",
       "        text-align: right;\n",
       "    }\n",
       "</style>\n",
       "<table border=\"1\" class=\"dataframe\">\n",
       "  <thead>\n",
       "    <tr style=\"text-align: right;\">\n",
       "      <th></th>\n",
       "      <th>Total</th>\n",
       "      <th>Percent</th>\n",
       "    </tr>\n",
       "  </thead>\n",
       "  <tbody>\n",
       "    <tr>\n",
       "      <th>GarageQual</th>\n",
       "      <td>81</td>\n",
       "      <td>5.547945</td>\n",
       "    </tr>\n",
       "    <tr>\n",
       "      <th>GarageCond</th>\n",
       "      <td>81</td>\n",
       "      <td>5.547945</td>\n",
       "    </tr>\n",
       "    <tr>\n",
       "      <th>BsmtFinType2</th>\n",
       "      <td>38</td>\n",
       "      <td>2.602740</td>\n",
       "    </tr>\n",
       "    <tr>\n",
       "      <th>BsmtExposure</th>\n",
       "      <td>38</td>\n",
       "      <td>2.602740</td>\n",
       "    </tr>\n",
       "    <tr>\n",
       "      <th>BsmtCond</th>\n",
       "      <td>37</td>\n",
       "      <td>2.534247</td>\n",
       "    </tr>\n",
       "    <tr>\n",
       "      <th>BsmtQual</th>\n",
       "      <td>37</td>\n",
       "      <td>2.534247</td>\n",
       "    </tr>\n",
       "    <tr>\n",
       "      <th>BsmtFinType1</th>\n",
       "      <td>37</td>\n",
       "      <td>2.534247</td>\n",
       "    </tr>\n",
       "  </tbody>\n",
       "</table>\n",
       "</div>"
      ],
      "text/plain": [
       "              Total   Percent\n",
       "GarageQual       81  5.547945\n",
       "GarageCond       81  5.547945\n",
       "BsmtFinType2     38  2.602740\n",
       "BsmtExposure     38  2.602740\n",
       "BsmtCond         37  2.534247\n",
       "BsmtQual         37  2.534247\n",
       "BsmtFinType1     37  2.534247"
      ]
     },
     "execution_count": 836,
     "metadata": {},
     "output_type": "execute_result"
    }
   ],
   "source": [
    "rem_missing_data"
   ]
  },
  {
   "cell_type": "markdown",
   "id": "5c99eb3a",
   "metadata": {},
   "source": [
    "lets drop all of the Basement variables except Basement Quality, because the parameter already describes everything related to basements"
   ]
  },
  {
   "cell_type": "code",
   "execution_count": 837,
   "id": "b6890dc2",
   "metadata": {},
   "outputs": [],
   "source": [
    "df.drop(['Id','BsmtCond', 'BsmtExposure', 'BsmtFinType1', 'BsmtFinType2'], axis=1, inplace=True)"
   ]
  },
  {
   "cell_type": "code",
   "execution_count": 838,
   "id": "b09030d9",
   "metadata": {},
   "outputs": [],
   "source": [
    "df['BsmtQual'] = df['BsmtQual'].map(qual_map)"
   ]
  },
  {
   "cell_type": "markdown",
   "id": "ccc7e0cd",
   "metadata": {},
   "source": [
    "As we can see, we should keep the Basement Quality parameter, as it has a moderate effect on the price"
   ]
  },
  {
   "cell_type": "code",
   "execution_count": 839,
   "id": "5ad8a3de",
   "metadata": {},
   "outputs": [
    {
     "data": {
      "image/png": "[encoded data removed]",
      "text/plain": [
       "<Figure size 640x480 with 1 Axes>"
      ]
     },
     "metadata": {},
     "output_type": "display_data"
    }
   ],
   "source": [
    "var = 'BsmtQual'\n",
    "data = pd.concat([df['SalePrice'], df[var]], axis=1)\n",
    "data.plot.scatter(x=var, y='SalePrice', ylim=(0,800000));"
   ]
  },
  {
   "cell_type": "code",
   "execution_count": 840,
   "id": "e80ef23f",
   "metadata": {},
   "outputs": [
    {
     "data": {
      "text/plain": [
       "MSSubClass        int64\n",
       "MSZoning         object\n",
       "LotArea           int64\n",
       "Street           object\n",
       "LotShape         object\n",
       "                  ...  \n",
       "MoSold            int64\n",
       "YrSold            int64\n",
       "SaleType         object\n",
       "SaleCondition    object\n",
       "SalePrice         int64\n",
       "Length: 66, dtype: object"
      ]
     },
     "execution_count": 840,
     "metadata": {},
     "output_type": "execute_result"
    }
   ],
   "source": [
    "df.dtypes"
   ]
  },
  {
   "cell_type": "code",
   "execution_count": 841,
   "id": "1352f067",
   "metadata": {},
   "outputs": [],
   "source": [
    "df = pd.get_dummies(df)\n",
    "\n",
    "\n"
   ]
  },
  {
   "cell_type": "code",
   "execution_count": 842,
   "id": "ad73f855",
   "metadata": {},
   "outputs": [
    {
     "name": "stdout",
     "output_type": "stream",
     "text": [
      "CV Log-RMSE Scores: [0.12831145 0.11121813 0.16315826 0.25250017 0.13015545]\n",
      "Mean CV Log-RMSE: 0.1571 (±0.0506)\n",
      "\n",
      "Test Set RMSE (in $): $22,421.46\n",
      "Baseline RMSE (mean predictor): $74,887.34\n"
     ]
    }
   ],
   "source": [
    "from sklearn.linear_model import LinearRegression\n",
    "from sklearn.metrics import mean_squared_error\n",
    "from sklearn.model_selection import train_test_split, KFold, cross_val_score\n",
    "import numpy as np\n",
    "\n",
    "# Log-transform SalePrice\n",
    "df['SalePrice'] = np.log(df['SalePrice'])\n",
    "X = df.drop('SalePrice', axis=1)\n",
    "y = df['SalePrice']\n",
    "\n",
    "# Train/test split\n",
    "X_train, X_test, y_train, y_test = train_test_split(\n",
    "    X, y, \n",
    "    test_size=0.2, \n",
    "    random_state=42\n",
    ")\n",
    "\n",
    "# Model & CV setup\n",
    "model = LinearRegression()\n",
    "kfold = KFold(n_splits=5, shuffle=True, random_state=42)\n",
    "\n",
    "# Cross-validation (log RMSE)\n",
    "cv_scores_log = cross_val_score(\n",
    "    model,\n",
    "    X_train,\n",
    "    y_train,\n",
    "    cv=kfold,\n",
    "    scoring='neg_root_mean_squared_error'\n",
    ")\n",
    "cv_rmse_scores_log = -cv_scores_log\n",
    "print(f\"CV Log-RMSE Scores: {cv_rmse_scores_log}\")\n",
    "print(f\"Mean CV Log-RMSE: {np.mean(cv_rmse_scores_log):.4f} (±{np.std(cv_rmse_scores_log):.4f})\")\n",
    "\n",
    "# Fit model and evaluate on test set\n",
    "model.fit(X_train, y_train)\n",
    "test_pred_log = model.predict(X_test)\n",
    "\n",
    "# Convert back to original scale\n",
    "y_test_actual = np.exp(y_test)\n",
    "test_pred_actual = np.exp(test_pred_log)\n",
    "\n",
    "# RMSE in dollar terms\n",
    "test_rmse = np.sqrt(mean_squared_error(y_test_actual, test_pred_actual))\n",
    "print(f\"\\nTest Set RMSE (in $): ${test_rmse:,.2f}\")\n",
    "\n",
    "# Baseline prediction (mean of train log prices → back to original scale)\n",
    "baseline_pred = np.exp([y_train.mean()] * len(y_test))\n",
    "baseline_rmse = np.sqrt(mean_squared_error(y_test_actual, baseline_pred))\n",
    "print(f\"Baseline RMSE (mean predictor): ${baseline_rmse:,.2f}\")\n"
   ]
  },
  {
   "cell_type": "code",
   "execution_count": null,
   "id": "a2cd0e4a",
   "metadata": {},
   "outputs": [
    {
     "name": "stdout",
     "output_type": "stream",
     "text": [
      "RMSE: 20668.1027\n"
     ]
    }
   ],
   "source": [
    "from sklearn.metrics import mean_squared_error\n",
    "\n",
    "mse = mean_squared_error(y_train, y_pred)  # Mean Squared Error (MSE)\n",
    "rmse = np.sqrt(mse)                       # Take square root to get RMSE\n",
    "print(f\"RMSE: {rmse:.4f}\")"
   ]
  }
 ],
 "metadata": {
  "kernelspec": {
   "display_name": "Python 3",
   "language": "python",
   "name": "python3"
  },
  "language_info": {
   "codemirror_mode": {
    "name": "ipython",
    "version": 3
   },
   "file_extension": ".py",
   "mimetype": "text/x-python",
   "name": "python",
   "nbconvert_exporter": "python",
   "pygments_lexer": "ipython3",
   "version": "3.10.12"
  }
 },
 "nbformat": 4,
 "nbformat_minor": 5
}
